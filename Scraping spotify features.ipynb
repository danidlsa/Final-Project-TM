{
 "cells": [
  {
   "cell_type": "code",
   "execution_count": 1,
   "metadata": {},
   "outputs": [],
   "source": [
    "import pandas as pd\n",
    "import spotipy\n",
    "import spotipy.util as util\n",
    "from spotipy.oauth2 import SpotifyClientCredentials\n",
    "\n",
    "def spotify_login(cid, secret):\n",
    "    client_credentials_manager = SpotifyClientCredentials(client_id=cid, client_secret=secret) \n",
    "    return spotipy.Spotify(client_credentials_manager=client_credentials_manager)\n",
    "\n",
    "cid = \"2758fb4fd4694c6ba9b71110bde0f9b1\"\n",
    "secret = \"9ea1abff9d7f4fe7877b619eb890df9c\"\n",
    "\n",
    "sp = spotify_login(cid, secret)"
   ]
  },
  {
   "cell_type": "code",
   "execution_count": 4,
   "metadata": {},
   "outputs": [],
   "source": [
    "# Read in the dataframe\n",
    "path = 'data/lists of songs/'\n",
    "songs = pd.read_csv(path + 'dataframe_songnames_by_country_and_year.csv') \n",
    "\n",
    "df = songs[['songs', 'artist', 'title']]"
   ]
  },
  {
   "cell_type": "code",
   "execution_count": 5,
   "metadata": {},
   "outputs": [],
   "source": [
    "\n",
    "# Define the song features to extract\n",
    "features = ['danceability', 'energy', 'key', 'loudness', 'mode', 'speechiness', 'acousticness', 'instrumentalness', 'liveness', 'valence', 'tempo', 'duration_ms']\n",
    "\n",
    "# Create a list to store the rows to drop\n",
    "rows_to_drop = []\n",
    "\n",
    "# Loop through the rows in the dataframe\n",
    "for index, row in df.iterrows():\n",
    "    # Search for the track using the song name and artist\n",
    "    results = sp.search(q='track:' + row['songs'] + ' artist:' + row['artist'], type='track')\n",
    "    items = results['tracks']['items']\n",
    "    if len(items) > 0:\n",
    "        track_id = items[0]['id']\n",
    "        # Get the audio features for the track\n",
    "        audio_features = sp.audio_features(track_id)[0]\n",
    "        # Append the song features and popularity to the dataframe\n",
    "        for feature in features:\n",
    "            df.loc[index, feature] = audio_features[feature]\n",
    "        df.loc[index, 'popularity'] = items[0]['popularity']\n",
    "    else:\n",
    "        rows_to_drop.append(index)"
   ]
  },
  {
   "cell_type": "code",
   "execution_count": 8,
   "metadata": {},
   "outputs": [],
   "source": [
    "# Drop rows with empty track_id or missing features\n",
    "df.dropna(subset=features, inplace=True)\n",
    "\n",
    "# Save dataframe in a csv file\n",
    "df.to_csv(\"data/lists of songs/dataframe_song_features.csv\")"
   ]
  }
 ],
 "metadata": {
  "kernelspec": {
   "display_name": "Python 3",
   "language": "python",
   "name": "python3"
  },
  "language_info": {
   "codemirror_mode": {
    "name": "ipython",
    "version": 3
   },
   "file_extension": ".py",
   "mimetype": "text/x-python",
   "name": "python",
   "nbconvert_exporter": "python",
   "pygments_lexer": "ipython3",
   "version": "3.11.0"
  },
  "orig_nbformat": 4,
  "vscode": {
   "interpreter": {
    "hash": "9ec6c9f00e031b5a1573a8a0225c185aed910f42501a08705023165d73967058"
   }
  }
 },
 "nbformat": 4,
 "nbformat_minor": 2
}
