{
 "cells": [
  {
   "cell_type": "code",
   "execution_count": 1,
   "metadata": {},
   "outputs": [],
   "source": [
    "import pandas as pd\n",
    "import spotipy\n",
    "import spotipy.util as util\n",
    "from spotipy.oauth2 import SpotifyClientCredentials\n",
    "\n",
    "def spotify_login(cid, secret):\n",
    "    client_credentials_manager = SpotifyClientCredentials(client_id=cid, client_secret=secret) \n",
    "    return spotipy.Spotify(client_credentials_manager=client_credentials_manager)\n",
    "\n",
    "cid = \"2758fb4fd4694c6ba9b71110bde0f9b1\"\n",
    "secret = \"9ea1abff9d7f4fe7877b619eb890df9c\"\n",
    "\n",
    "sp = spotify_login(cid, secret)"
   ]
  },
  {
   "cell_type": "code",
   "execution_count": 2,
   "metadata": {},
   "outputs": [],
   "source": [
    "# Read in the dataframe\n",
    "path = 'C:/Users/herre/OneDrive/Desktop/Text Mining/Project/Final-Project-TM/data/lists of songs/'\n",
    "songs = pd.read_csv(path + 'dataframe_songnames_by_country_and_year.csv') \n",
    "\n",
    "df = songs[['songs', 'artist']]"
   ]
  },
  {
   "cell_type": "code",
   "execution_count": 3,
   "metadata": {},
   "outputs": [
    {
     "name": "stderr",
     "output_type": "stream",
     "text": [
      "C:\\Users\\herre\\AppData\\Local\\Temp\\ipykernel_16972\\2517537430.py:16: SettingWithCopyWarning: \n",
      "A value is trying to be set on a copy of a slice from a DataFrame.\n",
      "Try using .loc[row_indexer,col_indexer] = value instead\n",
      "\n",
      "See the caveats in the documentation: https://pandas.pydata.org/pandas-docs/stable/user_guide/indexing.html#returning-a-view-versus-a-copy\n",
      "  df.loc[index, feature] = audio_features[feature]\n"
     ]
    }
   ],
   "source": [
    "features = ['danceability', 'energy', 'key', 'loudness', 'mode', 'speechiness', 'acousticness', 'instrumentalness', 'liveness', 'valence', 'tempo']\n",
    "rows_to_drop = []\n",
    "for index, row in df.iterrows():\n",
    "    track_name = row['songs']\n",
    "    artist_name = row['artist']\n",
    "    results = sp.search(q=track_name + ' artist:' + artist_name, type='track', limit=1)\n",
    "    if not results['tracks']['items']:\n",
    "        rows_to_drop.append(index)\n",
    "        continue\n",
    "    track_id = results['tracks']['items'][0]['id']\n",
    "    audio_features = sp.audio_features(track_id)[0]\n",
    "    if not audio_features:\n",
    "        rows_to_drop.append(index)\n",
    "        continue\n",
    "    for feature in features:\n",
    "        df.loc[index, feature] = audio_features[feature]\n",
    "\n",
    "# Drop the rows with empty lists\n",
    "df = df.drop(rows_to_drop)\n",
    "\n",
    "df.to_csv(\"data/lists of songs/dataframe_song_features.csv\")"
   ]
  }
 ],
 "metadata": {
  "kernelspec": {
   "display_name": "Python 3",
   "language": "python",
   "name": "python3"
  },
  "language_info": {
   "codemirror_mode": {
    "name": "ipython",
    "version": 3
   },
   "file_extension": ".py",
   "mimetype": "text/x-python",
   "name": "python",
   "nbconvert_exporter": "python",
   "pygments_lexer": "ipython3",
   "version": "3.11.0"
  },
  "orig_nbformat": 4,
  "vscode": {
   "interpreter": {
    "hash": "9ec6c9f00e031b5a1573a8a0225c185aed910f42501a08705023165d73967058"
   }
  }
 },
 "nbformat": 4,
 "nbformat_minor": 2
}
