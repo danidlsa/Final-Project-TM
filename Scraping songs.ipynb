{
 "cells": [
  {
   "cell_type": "code",
   "execution_count": 1,
   "metadata": {},
   "outputs": [],
   "source": [
    "#%%\n",
    "#!pip3 install -r requirements.txt\n",
    "from selenium.webdriver.common.keys import Keys\n",
    "# auxiliary functions modified by Luis.\n",
    "import scrape_functions as kzd\n",
    "import sys\n",
    "import calendar\n",
    "from selenium.common.exceptions import NoSuchElementException, ElementClickInterceptedException, StaleElementReferenceException\n",
    "import re\n",
    "from selenium.webdriver.support.ui import Select\n",
    "import random\n",
    "import time\n",
    "from selenium import webdriver\n",
    "import os\n",
    "import numpy as np\n",
    "import importlib\n",
    "importlib.reload(sys.modules['scrape_functions'])\n",
    "from datetime import date\n",
    "from random import gauss\n",
    "from selenium.webdriver.firefox.options import Options\n",
    "from selenium.webdriver.firefox.firefox_binary import FirefoxBinary\n",
    "from selenium.webdriver.common.by import By\n",
    "import pandas as pd\n"
   ]
  },
  {
   "cell_type": "code",
   "execution_count": 2,
   "metadata": {},
   "outputs": [],
   "source": [
    "danidls_path = 'geckodriver.exe'\n",
    "geko_path = danidls_path"
   ]
  },
  {
   "cell_type": "code",
   "execution_count": 3,
   "metadata": {},
   "outputs": [],
   "source": [
    "#returns a random number of seconds to sleep\n",
    "def sleep_time():\n",
    "    return 2 + random.gauss(1,1)"
   ]
  },
  {
   "cell_type": "code",
   "execution_count": 19,
   "metadata": {},
   "outputs": [],
   "source": [
    "link_usa_19=\"https://music.apple.com/us/playlist/top-songs-of-2019-usa/pl.423d870bc29942aaa767ea0bf2c4aacc\"\n",
    "link_usa_20=\"https://music.apple.com/us/playlist/top-songs-of-2020-usa/pl.d5884ced4c4f4cf3a2d3cb0977b04774\"\n",
    "link_usa_21=\"https://music.apple.com/us/playlist/top-songs-of-2021-usa/pl.3abfd6d416ba4700b67b8a2875206974\"\n",
    "link_usa_22=\"https://music.apple.com/us/playlist/top-songs-of-2022-usa/pl.0ab6891525a8423f96bc643d1d6643ed\"\n",
    "\n",
    "link_aus_19=\"https://music.apple.com/ca/playlist/top-songs-of-2019-australia/pl.6921ccb7385845eaa0f285659b934d87\"\n",
    "link_aus_20=\"https://music.apple.com/ca/playlist/top-songs-of-2020-australia/pl.d026d62d78cb4d6ba32e540db174139e\"\n",
    "link_aus_21=\"https://music.apple.com/us/playlist/top-songs-of-2021-australia/pl.95591641eb204951b1fe86a406d5dbc9\"\n",
    "link_aus_22=\"https://music.apple.com/us/playlist/top-songs-of-2022-australia/pl.d263099cc8c84600912c936c9d90c04f\"\n",
    "\n",
    "link_nz_19=\"https://music.apple.com/au/playlist/top-songs-of-2019-new-zealand/pl.0be7025320294bb2b223987eddd2fbeb\"\n",
    "link_nz_20=\"https://music.apple.com/us/playlist/top-songs-of-2020-new-zealand/pl.1d028811a4444afa9ee087e4c36d3285\"\n",
    "link_nz_21=\"https://music.apple.com/gb/playlist/top-songs-of-2021-new-zealand/pl.6108ccab20f745898547df214aa65abc\"\n",
    "link_nz_22=\"https://music.apple.com/us/playlist/top-songs-of-2022-new-zealand/pl.4b2ac5e7cef24b729806b4f06e5ef89c\"\n",
    "\n",
    "links_list = [link_usa_19, link_usa_20, link_usa_21, link_usa_22,\n",
    "link_nz_19, link_nz_20, link_nz_21, link_nz_22,\n",
    "link_aus_19, link_aus_20, link_aus_21, link_aus_22]"
   ]
  },
  {
   "cell_type": "code",
   "execution_count": 20,
   "metadata": {},
   "outputs": [],
   "source": [
    "# Opening browser\n",
    "\n",
    "browser = webdriver.Firefox()\n",
    "\n"
   ]
  },
  {
   "cell_type": "code",
   "execution_count": 43,
   "metadata": {},
   "outputs": [],
   "source": [
    "df_concat=[]\n",
    "for l in links_list:\n",
    "    browser.get(l)\n",
    "    songs = browser.find_elements(By.CLASS_NAME,'songs-list-row__song-name') \n",
    "    top_songs = []\n",
    "\n",
    "    for i in songs:\n",
    "        top_songs.append(i.text)\n",
    "    \n",
    "    title = browser.find_elements(By.CLASS_NAME,'headings__title') \n",
    "\n",
    "    df = pd.DataFrame({\"songs\": top_songs})\n",
    "\n",
    "    df[\"title\"]=title[0].text\n",
    "\n",
    "    df_concat.append(df)\n",
    "\n"
   ]
  },
  {
   "cell_type": "code",
   "execution_count": 48,
   "metadata": {},
   "outputs": [
    {
     "name": "stdout",
     "output_type": "stream",
     "text": [
      "Shape: (1199, 2)\n"
     ]
    },
    {
     "data": {
      "text/plain": [
       "Top Songs of 2019: USA            100\n",
       "Top Songs of 2020: USA            100\n",
       "Top Songs of 2021: USA            100\n",
       "Top Songs of 2022: USA            100\n",
       "Top Songs of 2019: New Zealand    100\n",
       "Top Songs of 2020: New Zealand    100\n",
       "Top Songs of 2022: New Zealand    100\n",
       "Top Songs of 2019: Australia      100\n",
       "Top Songs of 2020: Australia      100\n",
       "Top Songs of 2021: Australia      100\n",
       "Top Songs of 2022: Australia      100\n",
       "Top Songs of 2021: New Zealand     99\n",
       "Name: title, dtype: int64"
      ]
     },
     "execution_count": 48,
     "metadata": {},
     "output_type": "execute_result"
    }
   ],
   "source": [
    "df_concat_final = pd.concat(df_concat)\n",
    "print(\"Shape: \" + str(df_concat_final.shape))\n",
    "df_concat_final[\"title\"].value_counts()"
   ]
  },
  {
   "cell_type": "code",
   "execution_count": 49,
   "metadata": {},
   "outputs": [],
   "source": [
    "df_concat_final.to_csv(\"data/lists of songs/dataframe_songnames_by_country_and_year.csv\")"
   ]
  }
 ],
 "metadata": {
  "kernelspec": {
   "display_name": "Python 3",
   "language": "python",
   "name": "python3"
  },
  "language_info": {
   "codemirror_mode": {
    "name": "ipython",
    "version": 3
   },
   "file_extension": ".py",
   "mimetype": "text/x-python",
   "name": "python",
   "nbconvert_exporter": "python",
   "pygments_lexer": "ipython3",
   "version": "3.9.12"
  },
  "orig_nbformat": 4,
  "vscode": {
   "interpreter": {
    "hash": "7f2283acecc22c8e7cef9391ac581917ff5bab6871a1b97bd068d0d250291308"
   }
  }
 },
 "nbformat": 4,
 "nbformat_minor": 2
}
