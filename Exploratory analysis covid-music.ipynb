{
 "cells": [
  {
   "attachments": {},
   "cell_type": "markdown",
   "metadata": {},
   "source": [
    "### Exploring relationships between stringency of lockdowns and music listening habits"
   ]
  },
  {
   "cell_type": "code",
   "execution_count": 1,
   "metadata": {},
   "outputs": [],
   "source": [
    "import pandas as pd\n",
    "import matplotlib.pyplot as plt\n",
    "import seaborn as sns\n",
    "import datetime\n",
    "import re \n",
    "import numpy as np\n",
    "from sklearn.linear_model import LinearRegression\n",
    "from pystout import pystout\n",
    "import statsmodels.api as sm"
   ]
  },
  {
   "cell_type": "code",
   "execution_count": 2,
   "metadata": {},
   "outputs": [],
   "source": [
    "df = pd.read_csv(\"data/full_dataset_sentiment_analysis.csv\")"
   ]
  },
  {
   "cell_type": "code",
   "execution_count": 3,
   "metadata": {},
   "outputs": [],
   "source": [
    "df['year'] = df['title'].str.extract('(\\d{4})', expand=True)\n",
    "df['country'] = df['title'].str.extract(r'Top Songs of (\\d\\d\\d\\d): (.*)')[1]"
   ]
  },
  {
   "cell_type": "code",
   "execution_count": 4,
   "metadata": {},
   "outputs": [],
   "source": [
    "df = df.drop(columns=[\"enumerated_list\", \"lyrics_not_found\"])"
   ]
  },
  {
   "cell_type": "code",
   "execution_count": 5,
   "metadata": {},
   "outputs": [
    {
     "name": "stdout",
     "output_type": "stream",
     "text": [
      "<class 'pandas.core.frame.DataFrame'>\n",
      "RangeIndex: 952 entries, 0 to 951\n",
      "Data columns (total 15 columns):\n",
      " #   Column        Non-Null Count  Dtype  \n",
      "---  ------        --------------  -----  \n",
      " 0   Unnamed: 0.3  952 non-null    int64  \n",
      " 1   Unnamed: 0.2  952 non-null    int64  \n",
      " 2   Unnamed: 0.1  952 non-null    int64  \n",
      " 3   Unnamed: 0    952 non-null    int64  \n",
      " 4   songs         952 non-null    object \n",
      " 5   artist        952 non-null    object \n",
      " 6   title         952 non-null    object \n",
      " 7   lyrics        952 non-null    object \n",
      " 8   sentiment     952 non-null    object \n",
      " 9   neg           952 non-null    float64\n",
      " 10  neu           952 non-null    float64\n",
      " 11  pos           952 non-null    float64\n",
      " 12  compound      952 non-null    float64\n",
      " 13  year          952 non-null    object \n",
      " 14  country       952 non-null    object \n",
      "dtypes: float64(4), int64(4), object(7)\n",
      "memory usage: 111.7+ KB\n"
     ]
    }
   ],
   "source": [
    "df.info()"
   ]
  },
  {
   "cell_type": "code",
   "execution_count": 6,
   "metadata": {},
   "outputs": [],
   "source": [
    "df_grouped = (\n",
    "    df[['neg', 'pos', 'neu', 'year', 'country']].groupby(['country', 'year'])\n",
    "    .agg(['mean'])\n",
    ")"
   ]
  },
  {
   "cell_type": "code",
   "execution_count": 7,
   "metadata": {},
   "outputs": [],
   "source": [
    "df_grouped = df_grouped.droplevel(axis=1, level=1).reset_index()"
   ]
  },
  {
   "cell_type": "code",
   "execution_count": 8,
   "metadata": {},
   "outputs": [
    {
     "data": {
      "text/html": [
       "<div>\n",
       "<style scoped>\n",
       "    .dataframe tbody tr th:only-of-type {\n",
       "        vertical-align: middle;\n",
       "    }\n",
       "\n",
       "    .dataframe tbody tr th {\n",
       "        vertical-align: top;\n",
       "    }\n",
       "\n",
       "    .dataframe thead th {\n",
       "        text-align: right;\n",
       "    }\n",
       "</style>\n",
       "<table border=\"1\" class=\"dataframe\">\n",
       "  <thead>\n",
       "    <tr style=\"text-align: right;\">\n",
       "      <th></th>\n",
       "      <th>country</th>\n",
       "      <th>year</th>\n",
       "      <th>neg</th>\n",
       "      <th>pos</th>\n",
       "      <th>neu</th>\n",
       "      <th>ratio</th>\n",
       "    </tr>\n",
       "  </thead>\n",
       "  <tbody>\n",
       "    <tr>\n",
       "      <th>0</th>\n",
       "      <td>Australia</td>\n",
       "      <td>2019</td>\n",
       "      <td>0.109294</td>\n",
       "      <td>0.169353</td>\n",
       "      <td>0.721341</td>\n",
       "      <td>0.645363</td>\n",
       "    </tr>\n",
       "    <tr>\n",
       "      <th>1</th>\n",
       "      <td>Australia</td>\n",
       "      <td>2020</td>\n",
       "      <td>0.116071</td>\n",
       "      <td>0.138400</td>\n",
       "      <td>0.745541</td>\n",
       "      <td>0.838660</td>\n",
       "    </tr>\n",
       "    <tr>\n",
       "      <th>2</th>\n",
       "      <td>Australia</td>\n",
       "      <td>2021</td>\n",
       "      <td>0.118078</td>\n",
       "      <td>0.155805</td>\n",
       "      <td>0.726091</td>\n",
       "      <td>0.757856</td>\n",
       "    </tr>\n",
       "    <tr>\n",
       "      <th>3</th>\n",
       "      <td>Australia</td>\n",
       "      <td>2022</td>\n",
       "      <td>0.107183</td>\n",
       "      <td>0.150854</td>\n",
       "      <td>0.741902</td>\n",
       "      <td>0.710509</td>\n",
       "    </tr>\n",
       "    <tr>\n",
       "      <th>4</th>\n",
       "      <td>New Zealand</td>\n",
       "      <td>2019</td>\n",
       "      <td>0.117184</td>\n",
       "      <td>0.169539</td>\n",
       "      <td>0.713276</td>\n",
       "      <td>0.691191</td>\n",
       "    </tr>\n",
       "    <tr>\n",
       "      <th>5</th>\n",
       "      <td>New Zealand</td>\n",
       "      <td>2020</td>\n",
       "      <td>0.114917</td>\n",
       "      <td>0.142167</td>\n",
       "      <td>0.742917</td>\n",
       "      <td>0.808324</td>\n",
       "    </tr>\n",
       "    <tr>\n",
       "      <th>6</th>\n",
       "      <td>New Zealand</td>\n",
       "      <td>2021</td>\n",
       "      <td>0.111316</td>\n",
       "      <td>0.132595</td>\n",
       "      <td>0.756051</td>\n",
       "      <td>0.839523</td>\n",
       "    </tr>\n",
       "    <tr>\n",
       "      <th>7</th>\n",
       "      <td>New Zealand</td>\n",
       "      <td>2022</td>\n",
       "      <td>0.110341</td>\n",
       "      <td>0.145565</td>\n",
       "      <td>0.744129</td>\n",
       "      <td>0.758021</td>\n",
       "    </tr>\n",
       "    <tr>\n",
       "      <th>8</th>\n",
       "      <td>USA</td>\n",
       "      <td>2019</td>\n",
       "      <td>0.155149</td>\n",
       "      <td>0.125541</td>\n",
       "      <td>0.719270</td>\n",
       "      <td>1.235845</td>\n",
       "    </tr>\n",
       "    <tr>\n",
       "      <th>9</th>\n",
       "      <td>USA</td>\n",
       "      <td>2020</td>\n",
       "      <td>0.155580</td>\n",
       "      <td>0.119942</td>\n",
       "      <td>0.724493</td>\n",
       "      <td>1.297124</td>\n",
       "    </tr>\n",
       "    <tr>\n",
       "      <th>10</th>\n",
       "      <td>USA</td>\n",
       "      <td>2021</td>\n",
       "      <td>0.125932</td>\n",
       "      <td>0.122500</td>\n",
       "      <td>0.751419</td>\n",
       "      <td>1.028020</td>\n",
       "    </tr>\n",
       "    <tr>\n",
       "      <th>11</th>\n",
       "      <td>USA</td>\n",
       "      <td>2022</td>\n",
       "      <td>0.113049</td>\n",
       "      <td>0.112451</td>\n",
       "      <td>0.774512</td>\n",
       "      <td>1.005314</td>\n",
       "    </tr>\n",
       "  </tbody>\n",
       "</table>\n",
       "</div>"
      ],
      "text/plain": [
       "        country  year       neg       pos       neu     ratio\n",
       "0     Australia  2019  0.109294  0.169353  0.721341  0.645363\n",
       "1     Australia  2020  0.116071  0.138400  0.745541  0.838660\n",
       "2     Australia  2021  0.118078  0.155805  0.726091  0.757856\n",
       "3     Australia  2022  0.107183  0.150854  0.741902  0.710509\n",
       "4   New Zealand  2019  0.117184  0.169539  0.713276  0.691191\n",
       "5   New Zealand  2020  0.114917  0.142167  0.742917  0.808324\n",
       "6   New Zealand  2021  0.111316  0.132595  0.756051  0.839523\n",
       "7   New Zealand  2022  0.110341  0.145565  0.744129  0.758021\n",
       "8           USA  2019  0.155149  0.125541  0.719270  1.235845\n",
       "9           USA  2020  0.155580  0.119942  0.724493  1.297124\n",
       "10          USA  2021  0.125932  0.122500  0.751419  1.028020\n",
       "11          USA  2022  0.113049  0.112451  0.774512  1.005314"
      ]
     },
     "execution_count": 8,
     "metadata": {},
     "output_type": "execute_result"
    }
   ],
   "source": [
    "df_grouped[\"ratio\"]=df_grouped[\"neg\"]/df_grouped[\"pos\"]\n",
    "df_grouped"
   ]
  },
  {
   "cell_type": "code",
   "execution_count": 9,
   "metadata": {},
   "outputs": [],
   "source": [
    "covid = pd.read_csv(\"data/covid policies/stay-at-home-covid.csv\")"
   ]
  },
  {
   "cell_type": "code",
   "execution_count": 10,
   "metadata": {},
   "outputs": [
    {
     "name": "stdout",
     "output_type": "stream",
     "text": [
      "<class 'pandas.core.frame.DataFrame'>\n",
      "RangeIndex: 202847 entries, 0 to 202846\n",
      "Data columns (total 4 columns):\n",
      " #   Column                  Non-Null Count   Dtype \n",
      "---  ------                  --------------   ----- \n",
      " 0   Entity                  202847 non-null  object\n",
      " 1   Code                    202847 non-null  object\n",
      " 2   Day                     202847 non-null  object\n",
      " 3   stay_home_requirements  202847 non-null  int64 \n",
      "dtypes: int64(1), object(3)\n",
      "memory usage: 6.2+ MB\n"
     ]
    }
   ],
   "source": [
    "covid.info()"
   ]
  },
  {
   "cell_type": "code",
   "execution_count": 11,
   "metadata": {},
   "outputs": [
    {
     "data": {
      "text/plain": [
       "0    111364\n",
       "2     50283\n",
       "1     36230\n",
       "3      4970\n",
       "Name: stay_home_requirements, dtype: int64"
      ]
     },
     "execution_count": 11,
     "metadata": {},
     "output_type": "execute_result"
    }
   ],
   "source": [
    "covid[\"stay_home_requirements\"].value_counts()"
   ]
  },
  {
   "cell_type": "code",
   "execution_count": 12,
   "metadata": {},
   "outputs": [],
   "source": [
    "covid[\"year\"] = pd.DatetimeIndex(covid[\"Day\"]).year\n",
    "covid_filtered = covid[covid[\"year\"]<=2021]\n"
   ]
  },
  {
   "cell_type": "code",
   "execution_count": 13,
   "metadata": {},
   "outputs": [],
   "source": [
    "covid_by_year_world = (\n",
    "    covid_filtered[[\"stay_home_requirements\", \"Entity\"]].groupby([\"Entity\"])\n",
    "    .agg(['mean'])\n",
    ")\n",
    "\n",
    "#covid_by_year_world = covid_by_year_world.droplevel(axis=1, level=1).reset_index()\n",
    "\n",
    "covid_by_year_world.to_csv(\"data/covid policies/covid_world_means.csv\")"
   ]
  },
  {
   "attachments": {},
   "cell_type": "markdown",
   "metadata": {},
   "source": [
    "Countries are grouped into four categories:\n",
    "\n",
    "+ 0 - No measures\n",
    "+ 1 - Recommended not to leave the house\n",
    "+ 2 - Required to not leave the house with exceptions for daily exercise, grocery shopping, and ‘essential’ trips\n",
    "+ 3 - Required to not leave the house with minimal exceptions (e.g. allowed to leave only once every few days, or only one person can leave at a time, etc.)"
   ]
  },
  {
   "cell_type": "code",
   "execution_count": 14,
   "metadata": {},
   "outputs": [
    {
     "data": {
      "text/plain": [
       "Australia        1096\n",
       "New Zealand      1096\n",
       "United States    1096\n",
       "Name: Entity, dtype: int64"
      ]
     },
     "execution_count": 14,
     "metadata": {},
     "output_type": "execute_result"
    }
   ],
   "source": [
    "covid = covid[(covid[\"Code\"]==\"AUS\") | (covid[\"Code\"]==\"USA\") | (covid[\"Code\"]==\"NZL\")] \n",
    "covid[\"Entity\"].value_counts()"
   ]
  },
  {
   "cell_type": "code",
   "execution_count": 15,
   "metadata": {},
   "outputs": [
    {
     "data": {
      "text/html": [
       "<div>\n",
       "<style scoped>\n",
       "    .dataframe tbody tr th:only-of-type {\n",
       "        vertical-align: middle;\n",
       "    }\n",
       "\n",
       "    .dataframe tbody tr th {\n",
       "        vertical-align: top;\n",
       "    }\n",
       "\n",
       "    .dataframe thead th {\n",
       "        text-align: right;\n",
       "    }\n",
       "</style>\n",
       "<table border=\"1\" class=\"dataframe\">\n",
       "  <thead>\n",
       "    <tr style=\"text-align: right;\">\n",
       "      <th></th>\n",
       "      <th>Entity</th>\n",
       "      <th>Code</th>\n",
       "      <th>Day</th>\n",
       "      <th>stay_home_requirements</th>\n",
       "      <th>year</th>\n",
       "    </tr>\n",
       "  </thead>\n",
       "  <tbody>\n",
       "    <tr>\n",
       "      <th>7672</th>\n",
       "      <td>Australia</td>\n",
       "      <td>AUS</td>\n",
       "      <td>2020-01-01</td>\n",
       "      <td>0</td>\n",
       "      <td>2020</td>\n",
       "    </tr>\n",
       "    <tr>\n",
       "      <th>7673</th>\n",
       "      <td>Australia</td>\n",
       "      <td>AUS</td>\n",
       "      <td>2020-01-02</td>\n",
       "      <td>0</td>\n",
       "      <td>2020</td>\n",
       "    </tr>\n",
       "    <tr>\n",
       "      <th>7674</th>\n",
       "      <td>Australia</td>\n",
       "      <td>AUS</td>\n",
       "      <td>2020-01-03</td>\n",
       "      <td>0</td>\n",
       "      <td>2020</td>\n",
       "    </tr>\n",
       "    <tr>\n",
       "      <th>7675</th>\n",
       "      <td>Australia</td>\n",
       "      <td>AUS</td>\n",
       "      <td>2020-01-04</td>\n",
       "      <td>0</td>\n",
       "      <td>2020</td>\n",
       "    </tr>\n",
       "    <tr>\n",
       "      <th>7676</th>\n",
       "      <td>Australia</td>\n",
       "      <td>AUS</td>\n",
       "      <td>2020-01-05</td>\n",
       "      <td>0</td>\n",
       "      <td>2020</td>\n",
       "    </tr>\n",
       "    <tr>\n",
       "      <th>...</th>\n",
       "      <td>...</td>\n",
       "      <td>...</td>\n",
       "      <td>...</td>\n",
       "      <td>...</td>\n",
       "      <td>...</td>\n",
       "    </tr>\n",
       "    <tr>\n",
       "      <th>192978</th>\n",
       "      <td>United States</td>\n",
       "      <td>USA</td>\n",
       "      <td>2022-12-27</td>\n",
       "      <td>1</td>\n",
       "      <td>2022</td>\n",
       "    </tr>\n",
       "    <tr>\n",
       "      <th>192979</th>\n",
       "      <td>United States</td>\n",
       "      <td>USA</td>\n",
       "      <td>2022-12-28</td>\n",
       "      <td>1</td>\n",
       "      <td>2022</td>\n",
       "    </tr>\n",
       "    <tr>\n",
       "      <th>192980</th>\n",
       "      <td>United States</td>\n",
       "      <td>USA</td>\n",
       "      <td>2022-12-29</td>\n",
       "      <td>1</td>\n",
       "      <td>2022</td>\n",
       "    </tr>\n",
       "    <tr>\n",
       "      <th>192981</th>\n",
       "      <td>United States</td>\n",
       "      <td>USA</td>\n",
       "      <td>2022-12-30</td>\n",
       "      <td>1</td>\n",
       "      <td>2022</td>\n",
       "    </tr>\n",
       "    <tr>\n",
       "      <th>192982</th>\n",
       "      <td>United States</td>\n",
       "      <td>USA</td>\n",
       "      <td>2022-12-31</td>\n",
       "      <td>1</td>\n",
       "      <td>2022</td>\n",
       "    </tr>\n",
       "  </tbody>\n",
       "</table>\n",
       "<p>3288 rows × 5 columns</p>\n",
       "</div>"
      ],
      "text/plain": [
       "               Entity Code         Day  stay_home_requirements  year\n",
       "7672        Australia  AUS  2020-01-01                       0  2020\n",
       "7673        Australia  AUS  2020-01-02                       0  2020\n",
       "7674        Australia  AUS  2020-01-03                       0  2020\n",
       "7675        Australia  AUS  2020-01-04                       0  2020\n",
       "7676        Australia  AUS  2020-01-05                       0  2020\n",
       "...               ...  ...         ...                     ...   ...\n",
       "192978  United States  USA  2022-12-27                       1  2022\n",
       "192979  United States  USA  2022-12-28                       1  2022\n",
       "192980  United States  USA  2022-12-29                       1  2022\n",
       "192981  United States  USA  2022-12-30                       1  2022\n",
       "192982  United States  USA  2022-12-31                       1  2022\n",
       "\n",
       "[3288 rows x 5 columns]"
      ]
     },
     "execution_count": 15,
     "metadata": {},
     "output_type": "execute_result"
    }
   ],
   "source": [
    "covid[\"year\"] = pd.DatetimeIndex(covid[\"Day\"]).year\n",
    "covid\n",
    "\n"
   ]
  },
  {
   "cell_type": "code",
   "execution_count": 19,
   "metadata": {},
   "outputs": [
    {
     "data": {
      "text/html": [
       "<div>\n",
       "<style scoped>\n",
       "    .dataframe tbody tr th:only-of-type {\n",
       "        vertical-align: middle;\n",
       "    }\n",
       "\n",
       "    .dataframe tbody tr th {\n",
       "        vertical-align: top;\n",
       "    }\n",
       "\n",
       "    .dataframe thead th {\n",
       "        text-align: right;\n",
       "    }\n",
       "</style>\n",
       "<table border=\"1\" class=\"dataframe\">\n",
       "  <thead>\n",
       "    <tr style=\"text-align: right;\">\n",
       "      <th></th>\n",
       "      <th>Entity</th>\n",
       "      <th>year</th>\n",
       "      <th>stay_home_requirements</th>\n",
       "      <th>stay_home_requirements</th>\n",
       "    </tr>\n",
       "  </thead>\n",
       "  <tbody>\n",
       "    <tr>\n",
       "      <th>0</th>\n",
       "      <td>Australia</td>\n",
       "      <td>2020</td>\n",
       "      <td>1.183060</td>\n",
       "      <td>0.910720</td>\n",
       "    </tr>\n",
       "    <tr>\n",
       "      <th>1</th>\n",
       "      <td>Australia</td>\n",
       "      <td>2021</td>\n",
       "      <td>1.030137</td>\n",
       "      <td>1.000918</td>\n",
       "    </tr>\n",
       "    <tr>\n",
       "      <th>2</th>\n",
       "      <td>Australia</td>\n",
       "      <td>2022</td>\n",
       "      <td>0.120548</td>\n",
       "      <td>0.476641</td>\n",
       "    </tr>\n",
       "    <tr>\n",
       "      <th>3</th>\n",
       "      <td>New Zealand</td>\n",
       "      <td>2020</td>\n",
       "      <td>0.393443</td>\n",
       "      <td>0.792679</td>\n",
       "    </tr>\n",
       "    <tr>\n",
       "      <th>4</th>\n",
       "      <td>New Zealand</td>\n",
       "      <td>2021</td>\n",
       "      <td>0.657534</td>\n",
       "      <td>0.940820</td>\n",
       "    </tr>\n",
       "    <tr>\n",
       "      <th>5</th>\n",
       "      <td>New Zealand</td>\n",
       "      <td>2022</td>\n",
       "      <td>0.000000</td>\n",
       "      <td>0.000000</td>\n",
       "    </tr>\n",
       "    <tr>\n",
       "      <th>6</th>\n",
       "      <td>United States</td>\n",
       "      <td>2020</td>\n",
       "      <td>1.595628</td>\n",
       "      <td>0.804360</td>\n",
       "    </tr>\n",
       "    <tr>\n",
       "      <th>7</th>\n",
       "      <td>United States</td>\n",
       "      <td>2021</td>\n",
       "      <td>1.169863</td>\n",
       "      <td>0.376028</td>\n",
       "    </tr>\n",
       "    <tr>\n",
       "      <th>8</th>\n",
       "      <td>United States</td>\n",
       "      <td>2022</td>\n",
       "      <td>0.657534</td>\n",
       "      <td>0.475186</td>\n",
       "    </tr>\n",
       "  </tbody>\n",
       "</table>\n",
       "</div>"
      ],
      "text/plain": [
       "          Entity  year  stay_home_requirements  stay_home_requirements\n",
       "0      Australia  2020                1.183060                0.910720\n",
       "1      Australia  2021                1.030137                1.000918\n",
       "2      Australia  2022                0.120548                0.476641\n",
       "3    New Zealand  2020                0.393443                0.792679\n",
       "4    New Zealand  2021                0.657534                0.940820\n",
       "5    New Zealand  2022                0.000000                0.000000\n",
       "6  United States  2020                1.595628                0.804360\n",
       "7  United States  2021                1.169863                0.376028\n",
       "8  United States  2022                0.657534                0.475186"
      ]
     },
     "execution_count": 19,
     "metadata": {},
     "output_type": "execute_result"
    }
   ],
   "source": [
    "covid_by_year = (\n",
    "    covid[[\"stay_home_requirements\", \"Entity\", \"year\"]].groupby(['Entity', 'year'])\n",
    "    .agg(['mean', 'std'])\n",
    ")\n",
    "\n",
    "covid_by_year = covid_by_year.droplevel(axis=1, level=1).reset_index()\n",
    "\n",
    "covid_by_year"
   ]
  },
  {
   "cell_type": "code",
   "execution_count": 20,
   "metadata": {},
   "outputs": [],
   "source": [
    "covid_by_year[\"country\"] = covid_by_year[\"Entity\"]\n",
    "covid_by_year= covid_by_year.drop(columns=[\"Entity\"])\n",
    "\n",
    "covid_by_year[\"country\"]= covid_by_year[\"country\"].str.replace(r'United States', 'USA')\n",
    "\n",
    "df_grouped[\"year\"]=df_grouped[\"year\"].astype(np.int64)"
   ]
  },
  {
   "cell_type": "code",
   "execution_count": 21,
   "metadata": {},
   "outputs": [
    {
     "data": {
      "text/html": [
       "<div>\n",
       "<style scoped>\n",
       "    .dataframe tbody tr th:only-of-type {\n",
       "        vertical-align: middle;\n",
       "    }\n",
       "\n",
       "    .dataframe tbody tr th {\n",
       "        vertical-align: top;\n",
       "    }\n",
       "\n",
       "    .dataframe thead th {\n",
       "        text-align: right;\n",
       "    }\n",
       "</style>\n",
       "<table border=\"1\" class=\"dataframe\">\n",
       "  <thead>\n",
       "    <tr style=\"text-align: right;\">\n",
       "      <th></th>\n",
       "      <th>country</th>\n",
       "      <th>stay_home_requirements</th>\n",
       "      <th>stay_home_requirements</th>\n",
       "      <th>stay_home_requirements</th>\n",
       "      <th>stay_home_requirements</th>\n",
       "    </tr>\n",
       "  </thead>\n",
       "  <tbody>\n",
       "    <tr>\n",
       "      <th>0</th>\n",
       "      <td>Australia</td>\n",
       "      <td>1.106599</td>\n",
       "      <td>0.108133</td>\n",
       "      <td>0.955819</td>\n",
       "      <td>0.063780</td>\n",
       "    </tr>\n",
       "    <tr>\n",
       "      <th>1</th>\n",
       "      <td>New Zealand</td>\n",
       "      <td>0.525488</td>\n",
       "      <td>0.186741</td>\n",
       "      <td>0.866750</td>\n",
       "      <td>0.104751</td>\n",
       "    </tr>\n",
       "    <tr>\n",
       "      <th>2</th>\n",
       "      <td>USA</td>\n",
       "      <td>1.382746</td>\n",
       "      <td>0.301062</td>\n",
       "      <td>0.590194</td>\n",
       "      <td>0.302876</td>\n",
       "    </tr>\n",
       "  </tbody>\n",
       "</table>\n",
       "</div>"
      ],
      "text/plain": [
       "       country  stay_home_requirements  stay_home_requirements  \\\n",
       "0    Australia                1.106599                0.108133   \n",
       "1  New Zealand                0.525488                0.186741   \n",
       "2          USA                1.382746                0.301062   \n",
       "\n",
       "   stay_home_requirements  stay_home_requirements  \n",
       "0                0.955819                0.063780  \n",
       "1                0.866750                0.104751  \n",
       "2                0.590194                0.302876  "
      ]
     },
     "execution_count": 21,
     "metadata": {},
     "output_type": "execute_result"
    }
   ],
   "source": [
    "covid_by_year_viz = covid_by_year[covid_by_year[\"year\"]<=2021]\n",
    "\n",
    "\n",
    "covid_by_year_viz = (\n",
    "    covid_by_year_viz[[\"stay_home_requirements\", \"country\"]].groupby(['country'])\n",
    "    .agg(['mean', 'std'])\n",
    ")\n",
    "\n",
    "covid_by_year_viz = covid_by_year_viz.droplevel(axis=1, level=1).reset_index()\n",
    "covid_by_year_viz\n"
   ]
  },
  {
   "cell_type": "code",
   "execution_count": 22,
   "metadata": {},
   "outputs": [],
   "source": [
    "df_full = pd.merge(df_grouped,covid_by_year,how='left',left_on=[\"country\", str(\"year\")], right_on=[\"country\", str(\"year\")])"
   ]
  },
  {
   "cell_type": "code",
   "execution_count": 23,
   "metadata": {},
   "outputs": [
    {
     "data": {
      "text/html": [
       "<div>\n",
       "<style scoped>\n",
       "    .dataframe tbody tr th:only-of-type {\n",
       "        vertical-align: middle;\n",
       "    }\n",
       "\n",
       "    .dataframe tbody tr th {\n",
       "        vertical-align: top;\n",
       "    }\n",
       "\n",
       "    .dataframe thead th {\n",
       "        text-align: right;\n",
       "    }\n",
       "</style>\n",
       "<table border=\"1\" class=\"dataframe\">\n",
       "  <thead>\n",
       "    <tr style=\"text-align: right;\">\n",
       "      <th></th>\n",
       "      <th>country</th>\n",
       "      <th>year</th>\n",
       "      <th>neg</th>\n",
       "      <th>pos</th>\n",
       "      <th>neu</th>\n",
       "      <th>ratio</th>\n",
       "      <th>stay_home_requirements</th>\n",
       "      <th>stay_home_requirements</th>\n",
       "    </tr>\n",
       "  </thead>\n",
       "  <tbody>\n",
       "    <tr>\n",
       "      <th>0</th>\n",
       "      <td>Australia</td>\n",
       "      <td>2019</td>\n",
       "      <td>0.109294</td>\n",
       "      <td>0.169353</td>\n",
       "      <td>0.721341</td>\n",
       "      <td>0.645363</td>\n",
       "      <td>0.000000</td>\n",
       "      <td>0.000000</td>\n",
       "    </tr>\n",
       "    <tr>\n",
       "      <th>1</th>\n",
       "      <td>Australia</td>\n",
       "      <td>2020</td>\n",
       "      <td>0.116071</td>\n",
       "      <td>0.138400</td>\n",
       "      <td>0.745541</td>\n",
       "      <td>0.838660</td>\n",
       "      <td>1.183060</td>\n",
       "      <td>0.910720</td>\n",
       "    </tr>\n",
       "    <tr>\n",
       "      <th>2</th>\n",
       "      <td>Australia</td>\n",
       "      <td>2021</td>\n",
       "      <td>0.118078</td>\n",
       "      <td>0.155805</td>\n",
       "      <td>0.726091</td>\n",
       "      <td>0.757856</td>\n",
       "      <td>1.030137</td>\n",
       "      <td>1.000918</td>\n",
       "    </tr>\n",
       "    <tr>\n",
       "      <th>3</th>\n",
       "      <td>Australia</td>\n",
       "      <td>2022</td>\n",
       "      <td>0.107183</td>\n",
       "      <td>0.150854</td>\n",
       "      <td>0.741902</td>\n",
       "      <td>0.710509</td>\n",
       "      <td>0.120548</td>\n",
       "      <td>0.476641</td>\n",
       "    </tr>\n",
       "    <tr>\n",
       "      <th>4</th>\n",
       "      <td>New Zealand</td>\n",
       "      <td>2019</td>\n",
       "      <td>0.117184</td>\n",
       "      <td>0.169539</td>\n",
       "      <td>0.713276</td>\n",
       "      <td>0.691191</td>\n",
       "      <td>0.000000</td>\n",
       "      <td>0.000000</td>\n",
       "    </tr>\n",
       "    <tr>\n",
       "      <th>5</th>\n",
       "      <td>New Zealand</td>\n",
       "      <td>2020</td>\n",
       "      <td>0.114917</td>\n",
       "      <td>0.142167</td>\n",
       "      <td>0.742917</td>\n",
       "      <td>0.808324</td>\n",
       "      <td>0.393443</td>\n",
       "      <td>0.792679</td>\n",
       "    </tr>\n",
       "    <tr>\n",
       "      <th>6</th>\n",
       "      <td>New Zealand</td>\n",
       "      <td>2021</td>\n",
       "      <td>0.111316</td>\n",
       "      <td>0.132595</td>\n",
       "      <td>0.756051</td>\n",
       "      <td>0.839523</td>\n",
       "      <td>0.657534</td>\n",
       "      <td>0.940820</td>\n",
       "    </tr>\n",
       "    <tr>\n",
       "      <th>7</th>\n",
       "      <td>New Zealand</td>\n",
       "      <td>2022</td>\n",
       "      <td>0.110341</td>\n",
       "      <td>0.145565</td>\n",
       "      <td>0.744129</td>\n",
       "      <td>0.758021</td>\n",
       "      <td>0.000000</td>\n",
       "      <td>0.000000</td>\n",
       "    </tr>\n",
       "    <tr>\n",
       "      <th>8</th>\n",
       "      <td>USA</td>\n",
       "      <td>2019</td>\n",
       "      <td>0.155149</td>\n",
       "      <td>0.125541</td>\n",
       "      <td>0.719270</td>\n",
       "      <td>1.235845</td>\n",
       "      <td>0.000000</td>\n",
       "      <td>0.000000</td>\n",
       "    </tr>\n",
       "    <tr>\n",
       "      <th>9</th>\n",
       "      <td>USA</td>\n",
       "      <td>2020</td>\n",
       "      <td>0.155580</td>\n",
       "      <td>0.119942</td>\n",
       "      <td>0.724493</td>\n",
       "      <td>1.297124</td>\n",
       "      <td>1.595628</td>\n",
       "      <td>0.804360</td>\n",
       "    </tr>\n",
       "    <tr>\n",
       "      <th>10</th>\n",
       "      <td>USA</td>\n",
       "      <td>2021</td>\n",
       "      <td>0.125932</td>\n",
       "      <td>0.122500</td>\n",
       "      <td>0.751419</td>\n",
       "      <td>1.028020</td>\n",
       "      <td>1.169863</td>\n",
       "      <td>0.376028</td>\n",
       "    </tr>\n",
       "    <tr>\n",
       "      <th>11</th>\n",
       "      <td>USA</td>\n",
       "      <td>2022</td>\n",
       "      <td>0.113049</td>\n",
       "      <td>0.112451</td>\n",
       "      <td>0.774512</td>\n",
       "      <td>1.005314</td>\n",
       "      <td>0.657534</td>\n",
       "      <td>0.475186</td>\n",
       "    </tr>\n",
       "  </tbody>\n",
       "</table>\n",
       "</div>"
      ],
      "text/plain": [
       "        country  year       neg       pos       neu     ratio  \\\n",
       "0     Australia  2019  0.109294  0.169353  0.721341  0.645363   \n",
       "1     Australia  2020  0.116071  0.138400  0.745541  0.838660   \n",
       "2     Australia  2021  0.118078  0.155805  0.726091  0.757856   \n",
       "3     Australia  2022  0.107183  0.150854  0.741902  0.710509   \n",
       "4   New Zealand  2019  0.117184  0.169539  0.713276  0.691191   \n",
       "5   New Zealand  2020  0.114917  0.142167  0.742917  0.808324   \n",
       "6   New Zealand  2021  0.111316  0.132595  0.756051  0.839523   \n",
       "7   New Zealand  2022  0.110341  0.145565  0.744129  0.758021   \n",
       "8           USA  2019  0.155149  0.125541  0.719270  1.235845   \n",
       "9           USA  2020  0.155580  0.119942  0.724493  1.297124   \n",
       "10          USA  2021  0.125932  0.122500  0.751419  1.028020   \n",
       "11          USA  2022  0.113049  0.112451  0.774512  1.005314   \n",
       "\n",
       "    stay_home_requirements  stay_home_requirements  \n",
       "0                 0.000000                0.000000  \n",
       "1                 1.183060                0.910720  \n",
       "2                 1.030137                1.000918  \n",
       "3                 0.120548                0.476641  \n",
       "4                 0.000000                0.000000  \n",
       "5                 0.393443                0.792679  \n",
       "6                 0.657534                0.940820  \n",
       "7                 0.000000                0.000000  \n",
       "8                 0.000000                0.000000  \n",
       "9                 1.595628                0.804360  \n",
       "10                1.169863                0.376028  \n",
       "11                0.657534                0.475186  "
      ]
     },
     "execution_count": 23,
     "metadata": {},
     "output_type": "execute_result"
    }
   ],
   "source": [
    "df_full = df_full.replace(np.nan, 0)\n",
    "df_full"
   ]
  },
  {
   "cell_type": "code",
   "execution_count": 24,
   "metadata": {},
   "outputs": [
    {
     "data": {
      "text/plain": [
       "Text(0.5, 1.0, 'Ratio negative/positive sentiments')"
      ]
     },
     "execution_count": 24,
     "metadata": {},
     "output_type": "execute_result"
    },
    {
     "data": {
      "image/png": "[encoded data removed]",
      "text/plain": [
       "<Figure size 800x400 with 1 Axes>"
      ]
     },
     "metadata": {},
     "output_type": "display_data"
    }
   ],
   "source": [
    "fig, g = plt.subplots(figsize=(8, 4))\n",
    "sns.lineplot(x=df_full['year'], y=df_full['ratio'], hue=df_full[\"country\"], marker='o')\n",
    "\n",
    "g.set_title('Ratio negative/positive sentiments', fontweight=\"bold\", fontsize=14) # setting title"
   ]
  },
  {
   "cell_type": "code",
   "execution_count": 25,
   "metadata": {},
   "outputs": [
    {
     "data": {
      "text/plain": [
       "Text(0.5, 1.0, 'Ratio negative/positive sentiments')"
      ]
     },
     "execution_count": 25,
     "metadata": {},
     "output_type": "execute_result"
    },
    {
     "data": {
      "image/png": "[encoded data removed]",
      "text/plain": [
       "<Figure size 800x400 with 1 Axes>"
      ]
     },
     "metadata": {},
     "output_type": "display_data"
    }
   ],
   "source": [
    "fig, g = plt.subplots(figsize=(8, 4))\n",
    "sns.lineplot(x=df_full['year'], y=df_full['neg'], hue=df_full[\"country\"], marker='o')\n",
    "\n",
    "g.set_title('Ratio negative/positive sentiments', fontweight=\"bold\", fontsize=14) # setting title"
   ]
  },
  {
   "cell_type": "code",
   "execution_count": 26,
   "metadata": {},
   "outputs": [
    {
     "data": {
      "text/plain": [
       "Text(0.5, 1.0, 'Ratio negative/positive sentiments')"
      ]
     },
     "execution_count": 26,
     "metadata": {},
     "output_type": "execute_result"
    },
    {
     "data": {
      "image/png": "[encoded data removed]",
      "text/plain": [
       "<Figure size 800x400 with 1 Axes>"
      ]
     },
     "metadata": {},
     "output_type": "display_data"
    }
   ],
   "source": [
    "fig, g = plt.subplots(figsize=(8, 4))\n",
    "sns.lineplot(x=df_full['year'], y=df_full['pos'], hue=df_full[\"country\"], marker='o')\n",
    "\n",
    "g.set_title('Ratio negative/positive sentiments', fontweight=\"bold\", fontsize=14) # setting title"
   ]
  },
  {
   "cell_type": "code",
   "execution_count": 27,
   "metadata": {},
   "outputs": [
    {
     "data": {
      "text/html": [
       "<div>\n",
       "<style scoped>\n",
       "    .dataframe tbody tr th:only-of-type {\n",
       "        vertical-align: middle;\n",
       "    }\n",
       "\n",
       "    .dataframe tbody tr th {\n",
       "        vertical-align: top;\n",
       "    }\n",
       "\n",
       "    .dataframe thead th {\n",
       "        text-align: right;\n",
       "    }\n",
       "</style>\n",
       "<table border=\"1\" class=\"dataframe\">\n",
       "  <thead>\n",
       "    <tr style=\"text-align: right;\">\n",
       "      <th>year</th>\n",
       "      <th>2019</th>\n",
       "      <th>2020</th>\n",
       "      <th>2021</th>\n",
       "      <th>2022</th>\n",
       "    </tr>\n",
       "    <tr>\n",
       "      <th>country</th>\n",
       "      <th></th>\n",
       "      <th></th>\n",
       "      <th></th>\n",
       "      <th></th>\n",
       "    </tr>\n",
       "  </thead>\n",
       "  <tbody>\n",
       "    <tr>\n",
       "      <th>Australia</th>\n",
       "      <td>0.645363</td>\n",
       "      <td>0.838660</td>\n",
       "      <td>0.757856</td>\n",
       "      <td>0.710509</td>\n",
       "    </tr>\n",
       "    <tr>\n",
       "      <th>New Zealand</th>\n",
       "      <td>0.691191</td>\n",
       "      <td>0.808324</td>\n",
       "      <td>0.839523</td>\n",
       "      <td>0.758021</td>\n",
       "    </tr>\n",
       "    <tr>\n",
       "      <th>USA</th>\n",
       "      <td>1.235845</td>\n",
       "      <td>1.297124</td>\n",
       "      <td>1.028020</td>\n",
       "      <td>1.005314</td>\n",
       "    </tr>\n",
       "  </tbody>\n",
       "</table>\n",
       "</div>"
      ],
      "text/plain": [
       "year             2019      2020      2021      2022\n",
       "country                                            \n",
       "Australia    0.645363  0.838660  0.757856  0.710509\n",
       "New Zealand  0.691191  0.808324  0.839523  0.758021\n",
       "USA          1.235845  1.297124  1.028020  1.005314"
      ]
     },
     "execution_count": 27,
     "metadata": {},
     "output_type": "execute_result"
    }
   ],
   "source": [
    "# Focusing on the change in sentiment\n",
    "\n",
    "df_pivot = df_full.pivot(values=\"ratio\", index=\"country\", columns=\"year\")\n",
    "df_pivot"
   ]
  },
  {
   "cell_type": "code",
   "execution_count": 28,
   "metadata": {},
   "outputs": [],
   "source": [
    "df_pivot[\"diff_2020_2019\"]=df_pivot[2020]-df_pivot[2019]\n",
    "df_pivot[\"diff_2021_2019\"]=df_pivot[2021]-df_pivot[2019]\n",
    "df_pivot[\"diff_2022_2019\"]=df_pivot[2022]-df_pivot[2019]"
   ]
  },
  {
   "cell_type": "code",
   "execution_count": 29,
   "metadata": {},
   "outputs": [
    {
     "data": {
      "text/html": [
       "<div>\n",
       "<style scoped>\n",
       "    .dataframe tbody tr th:only-of-type {\n",
       "        vertical-align: middle;\n",
       "    }\n",
       "\n",
       "    .dataframe tbody tr th {\n",
       "        vertical-align: top;\n",
       "    }\n",
       "\n",
       "    .dataframe thead th {\n",
       "        text-align: right;\n",
       "    }\n",
       "</style>\n",
       "<table border=\"1\" class=\"dataframe\">\n",
       "  <thead>\n",
       "    <tr style=\"text-align: right;\">\n",
       "      <th>year</th>\n",
       "      <th>2019</th>\n",
       "      <th>2020</th>\n",
       "      <th>2021</th>\n",
       "      <th>2022</th>\n",
       "      <th>diff_2020_2019</th>\n",
       "      <th>diff_2021_2019</th>\n",
       "      <th>diff_2022_2019</th>\n",
       "    </tr>\n",
       "    <tr>\n",
       "      <th>country</th>\n",
       "      <th></th>\n",
       "      <th></th>\n",
       "      <th></th>\n",
       "      <th></th>\n",
       "      <th></th>\n",
       "      <th></th>\n",
       "      <th></th>\n",
       "    </tr>\n",
       "  </thead>\n",
       "  <tbody>\n",
       "    <tr>\n",
       "      <th>Australia</th>\n",
       "      <td>0.645363</td>\n",
       "      <td>0.838660</td>\n",
       "      <td>0.757856</td>\n",
       "      <td>0.710509</td>\n",
       "      <td>0.193297</td>\n",
       "      <td>0.112493</td>\n",
       "      <td>0.065146</td>\n",
       "    </tr>\n",
       "    <tr>\n",
       "      <th>New Zealand</th>\n",
       "      <td>0.691191</td>\n",
       "      <td>0.808324</td>\n",
       "      <td>0.839523</td>\n",
       "      <td>0.758021</td>\n",
       "      <td>0.117132</td>\n",
       "      <td>0.148331</td>\n",
       "      <td>0.066830</td>\n",
       "    </tr>\n",
       "    <tr>\n",
       "      <th>USA</th>\n",
       "      <td>1.235845</td>\n",
       "      <td>1.297124</td>\n",
       "      <td>1.028020</td>\n",
       "      <td>1.005314</td>\n",
       "      <td>0.061279</td>\n",
       "      <td>-0.207825</td>\n",
       "      <td>-0.230531</td>\n",
       "    </tr>\n",
       "  </tbody>\n",
       "</table>\n",
       "</div>"
      ],
      "text/plain": [
       "year             2019      2020      2021      2022  diff_2020_2019  \\\n",
       "country                                                               \n",
       "Australia    0.645363  0.838660  0.757856  0.710509        0.193297   \n",
       "New Zealand  0.691191  0.808324  0.839523  0.758021        0.117132   \n",
       "USA          1.235845  1.297124  1.028020  1.005314        0.061279   \n",
       "\n",
       "year         diff_2021_2019  diff_2022_2019  \n",
       "country                                      \n",
       "Australia          0.112493        0.065146  \n",
       "New Zealand        0.148331        0.066830  \n",
       "USA               -0.207825       -0.230531  "
      ]
     },
     "execution_count": 29,
     "metadata": {},
     "output_type": "execute_result"
    }
   ],
   "source": [
    "df_pivot"
   ]
  }
 ],
 "metadata": {
  "kernelspec": {
   "display_name": "base",
   "language": "python",
   "name": "python3"
  },
  "language_info": {
   "codemirror_mode": {
    "name": "ipython",
    "version": 3
   },
   "file_extension": ".py",
   "mimetype": "text/x-python",
   "name": "python",
   "nbconvert_exporter": "python",
   "pygments_lexer": "ipython3",
   "version": "3.9.13"
  },
  "orig_nbformat": 4,
  "vscode": {
   "interpreter": {
    "hash": "a9bf44a63aa85fc488ba2c18070365b0fdf586414cbab845f059fd6426d069d2"
   }
  }
 },
 "nbformat": 4,
 "nbformat_minor": 2
}
