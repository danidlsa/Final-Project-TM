{
 "cells": [
  {
   "attachments": {},
   "cell_type": "markdown",
   "metadata": {},
   "source": [
    "### Implementing model"
   ]
  },
  {
   "cell_type": "code",
   "execution_count": 1,
   "metadata": {},
   "outputs": [],
   "source": [
    "import pandas as pd\n",
    "import matplotlib.pyplot as plt\n",
    "import seaborn as sns\n",
    "import datetime\n",
    "import re \n",
    "import numpy as np\n",
    "from sklearn.linear_model import LinearRegression\n",
    "from pystout import pystout\n",
    "import statsmodels.api as sm"
   ]
  },
  {
   "cell_type": "code",
   "execution_count": 2,
   "metadata": {},
   "outputs": [],
   "source": [
    "df = pd.read_csv(\"data/full_dataset_sentiment_analysis.csv\")"
   ]
  },
  {
   "cell_type": "code",
   "execution_count": 3,
   "metadata": {},
   "outputs": [],
   "source": [
    "df['year'] = df['title'].str.extract('(\\d{4})', expand=True)\n",
    "df['country'] = df['title'].str.extract(r'Top Songs of (\\d\\d\\d\\d): (.*)')[1]"
   ]
  },
  {
   "cell_type": "code",
   "execution_count": 4,
   "metadata": {},
   "outputs": [],
   "source": [
    "df = df.drop(columns=[\"enumerated_list\", \"lyrics_not_found\"])"
   ]
  },
  {
   "cell_type": "code",
   "execution_count": 5,
   "metadata": {},
   "outputs": [
    {
     "name": "stdout",
     "output_type": "stream",
     "text": [
      "<class 'pandas.core.frame.DataFrame'>\n",
      "RangeIndex: 952 entries, 0 to 951\n",
      "Data columns (total 15 columns):\n",
      " #   Column        Non-Null Count  Dtype  \n",
      "---  ------        --------------  -----  \n",
      " 0   Unnamed: 0.3  952 non-null    int64  \n",
      " 1   Unnamed: 0.2  952 non-null    int64  \n",
      " 2   Unnamed: 0.1  952 non-null    int64  \n",
      " 3   Unnamed: 0    952 non-null    int64  \n",
      " 4   songs         952 non-null    object \n",
      " 5   artist        952 non-null    object \n",
      " 6   title         952 non-null    object \n",
      " 7   lyrics        952 non-null    object \n",
      " 8   sentiment     952 non-null    object \n",
      " 9   neg           952 non-null    float64\n",
      " 10  neu           952 non-null    float64\n",
      " 11  pos           952 non-null    float64\n",
      " 12  compound      952 non-null    float64\n",
      " 13  year          952 non-null    object \n",
      " 14  country       952 non-null    object \n",
      "dtypes: float64(4), int64(4), object(7)\n",
      "memory usage: 111.7+ KB\n"
     ]
    }
   ],
   "source": [
    "df.info()"
   ]
  },
  {
   "cell_type": "code",
   "execution_count": 6,
   "metadata": {},
   "outputs": [],
   "source": [
    "df_grouped = (\n",
    "    df[['neg', 'pos', 'neu', 'year', 'country']].groupby(['country', 'year'])\n",
    "    .agg(['mean'])\n",
    ")"
   ]
  },
  {
   "cell_type": "code",
   "execution_count": 7,
   "metadata": {},
   "outputs": [],
   "source": [
    "df_grouped = df_grouped.droplevel(axis=1, level=1).reset_index()"
   ]
  },
  {
   "cell_type": "code",
   "execution_count": 8,
   "metadata": {},
   "outputs": [
    {
     "data": {
      "text/html": [
       "<div>\n",
       "<style scoped>\n",
       "    .dataframe tbody tr th:only-of-type {\n",
       "        vertical-align: middle;\n",
       "    }\n",
       "\n",
       "    .dataframe tbody tr th {\n",
       "        vertical-align: top;\n",
       "    }\n",
       "\n",
       "    .dataframe thead th {\n",
       "        text-align: right;\n",
       "    }\n",
       "</style>\n",
       "<table border=\"1\" class=\"dataframe\">\n",
       "  <thead>\n",
       "    <tr style=\"text-align: right;\">\n",
       "      <th></th>\n",
       "      <th>country</th>\n",
       "      <th>year</th>\n",
       "      <th>neg</th>\n",
       "      <th>pos</th>\n",
       "      <th>neu</th>\n",
       "      <th>ratio</th>\n",
       "    </tr>\n",
       "  </thead>\n",
       "  <tbody>\n",
       "    <tr>\n",
       "      <th>0</th>\n",
       "      <td>Australia</td>\n",
       "      <td>2019</td>\n",
       "      <td>0.109294</td>\n",
       "      <td>0.169353</td>\n",
       "      <td>0.721341</td>\n",
       "      <td>0.645363</td>\n",
       "    </tr>\n",
       "    <tr>\n",
       "      <th>1</th>\n",
       "      <td>Australia</td>\n",
       "      <td>2020</td>\n",
       "      <td>0.116071</td>\n",
       "      <td>0.138400</td>\n",
       "      <td>0.745541</td>\n",
       "      <td>0.838660</td>\n",
       "    </tr>\n",
       "    <tr>\n",
       "      <th>2</th>\n",
       "      <td>Australia</td>\n",
       "      <td>2021</td>\n",
       "      <td>0.118078</td>\n",
       "      <td>0.155805</td>\n",
       "      <td>0.726091</td>\n",
       "      <td>0.757856</td>\n",
       "    </tr>\n",
       "    <tr>\n",
       "      <th>3</th>\n",
       "      <td>Australia</td>\n",
       "      <td>2022</td>\n",
       "      <td>0.107183</td>\n",
       "      <td>0.150854</td>\n",
       "      <td>0.741902</td>\n",
       "      <td>0.710509</td>\n",
       "    </tr>\n",
       "    <tr>\n",
       "      <th>4</th>\n",
       "      <td>New Zealand</td>\n",
       "      <td>2019</td>\n",
       "      <td>0.117184</td>\n",
       "      <td>0.169539</td>\n",
       "      <td>0.713276</td>\n",
       "      <td>0.691191</td>\n",
       "    </tr>\n",
       "    <tr>\n",
       "      <th>5</th>\n",
       "      <td>New Zealand</td>\n",
       "      <td>2020</td>\n",
       "      <td>0.114917</td>\n",
       "      <td>0.142167</td>\n",
       "      <td>0.742917</td>\n",
       "      <td>0.808324</td>\n",
       "    </tr>\n",
       "    <tr>\n",
       "      <th>6</th>\n",
       "      <td>New Zealand</td>\n",
       "      <td>2021</td>\n",
       "      <td>0.111316</td>\n",
       "      <td>0.132595</td>\n",
       "      <td>0.756051</td>\n",
       "      <td>0.839523</td>\n",
       "    </tr>\n",
       "    <tr>\n",
       "      <th>7</th>\n",
       "      <td>New Zealand</td>\n",
       "      <td>2022</td>\n",
       "      <td>0.110341</td>\n",
       "      <td>0.145565</td>\n",
       "      <td>0.744129</td>\n",
       "      <td>0.758021</td>\n",
       "    </tr>\n",
       "    <tr>\n",
       "      <th>8</th>\n",
       "      <td>USA</td>\n",
       "      <td>2019</td>\n",
       "      <td>0.155149</td>\n",
       "      <td>0.125541</td>\n",
       "      <td>0.719270</td>\n",
       "      <td>1.235845</td>\n",
       "    </tr>\n",
       "    <tr>\n",
       "      <th>9</th>\n",
       "      <td>USA</td>\n",
       "      <td>2020</td>\n",
       "      <td>0.155580</td>\n",
       "      <td>0.119942</td>\n",
       "      <td>0.724493</td>\n",
       "      <td>1.297124</td>\n",
       "    </tr>\n",
       "    <tr>\n",
       "      <th>10</th>\n",
       "      <td>USA</td>\n",
       "      <td>2021</td>\n",
       "      <td>0.125932</td>\n",
       "      <td>0.122500</td>\n",
       "      <td>0.751419</td>\n",
       "      <td>1.028020</td>\n",
       "    </tr>\n",
       "    <tr>\n",
       "      <th>11</th>\n",
       "      <td>USA</td>\n",
       "      <td>2022</td>\n",
       "      <td>0.113049</td>\n",
       "      <td>0.112451</td>\n",
       "      <td>0.774512</td>\n",
       "      <td>1.005314</td>\n",
       "    </tr>\n",
       "  </tbody>\n",
       "</table>\n",
       "</div>"
      ],
      "text/plain": [
       "        country  year       neg       pos       neu     ratio\n",
       "0     Australia  2019  0.109294  0.169353  0.721341  0.645363\n",
       "1     Australia  2020  0.116071  0.138400  0.745541  0.838660\n",
       "2     Australia  2021  0.118078  0.155805  0.726091  0.757856\n",
       "3     Australia  2022  0.107183  0.150854  0.741902  0.710509\n",
       "4   New Zealand  2019  0.117184  0.169539  0.713276  0.691191\n",
       "5   New Zealand  2020  0.114917  0.142167  0.742917  0.808324\n",
       "6   New Zealand  2021  0.111316  0.132595  0.756051  0.839523\n",
       "7   New Zealand  2022  0.110341  0.145565  0.744129  0.758021\n",
       "8           USA  2019  0.155149  0.125541  0.719270  1.235845\n",
       "9           USA  2020  0.155580  0.119942  0.724493  1.297124\n",
       "10          USA  2021  0.125932  0.122500  0.751419  1.028020\n",
       "11          USA  2022  0.113049  0.112451  0.774512  1.005314"
      ]
     },
     "execution_count": 8,
     "metadata": {},
     "output_type": "execute_result"
    }
   ],
   "source": [
    "df_grouped[\"ratio\"]=df_grouped[\"neg\"]/df_grouped[\"pos\"]\n",
    "df_grouped"
   ]
  },
  {
   "cell_type": "code",
   "execution_count": 9,
   "metadata": {},
   "outputs": [],
   "source": [
    "covid = pd.read_csv(\"data/covid policies/stay-at-home-covid.csv\")"
   ]
  },
  {
   "cell_type": "code",
   "execution_count": 10,
   "metadata": {},
   "outputs": [
    {
     "name": "stdout",
     "output_type": "stream",
     "text": [
      "<class 'pandas.core.frame.DataFrame'>\n",
      "RangeIndex: 202847 entries, 0 to 202846\n",
      "Data columns (total 4 columns):\n",
      " #   Column                  Non-Null Count   Dtype \n",
      "---  ------                  --------------   ----- \n",
      " 0   Entity                  202847 non-null  object\n",
      " 1   Code                    202847 non-null  object\n",
      " 2   Day                     202847 non-null  object\n",
      " 3   stay_home_requirements  202847 non-null  int64 \n",
      "dtypes: int64(1), object(3)\n",
      "memory usage: 6.2+ MB\n"
     ]
    }
   ],
   "source": [
    "covid.info()"
   ]
  },
  {
   "cell_type": "code",
   "execution_count": 11,
   "metadata": {},
   "outputs": [
    {
     "data": {
      "text/plain": [
       "0    111364\n",
       "2     50283\n",
       "1     36230\n",
       "3      4970\n",
       "Name: stay_home_requirements, dtype: int64"
      ]
     },
     "execution_count": 11,
     "metadata": {},
     "output_type": "execute_result"
    }
   ],
   "source": [
    "covid[\"stay_home_requirements\"].value_counts()"
   ]
  },
  {
   "attachments": {},
   "cell_type": "markdown",
   "metadata": {},
   "source": [
    "Countries are grouped into four categories:\n",
    "\n",
    "+ 0 - No measures\n",
    "+ 1 - Recommended not to leave the house\n",
    "+ 2 - Required to not leave the house with exceptions for daily exercise, grocery shopping, and ‘essential’ trips\n",
    "+ 3 - Required to not leave the house with minimal exceptions (e.g. allowed to leave only once every few days, or only one person can leave at a time, etc.)"
   ]
  },
  {
   "cell_type": "code",
   "execution_count": 12,
   "metadata": {},
   "outputs": [
    {
     "data": {
      "text/plain": [
       "Australia        1096\n",
       "New Zealand      1096\n",
       "United States    1096\n",
       "Name: Entity, dtype: int64"
      ]
     },
     "execution_count": 12,
     "metadata": {},
     "output_type": "execute_result"
    }
   ],
   "source": [
    "covid = covid[(covid[\"Code\"]==\"AUS\") | (covid[\"Code\"]==\"USA\") | (covid[\"Code\"]==\"NZL\")] \n",
    "covid[\"Entity\"].value_counts()"
   ]
  },
  {
   "cell_type": "code",
   "execution_count": 13,
   "metadata": {},
   "outputs": [
    {
     "data": {
      "text/html": [
       "<div>\n",
       "<style scoped>\n",
       "    .dataframe tbody tr th:only-of-type {\n",
       "        vertical-align: middle;\n",
       "    }\n",
       "\n",
       "    .dataframe tbody tr th {\n",
       "        vertical-align: top;\n",
       "    }\n",
       "\n",
       "    .dataframe thead th {\n",
       "        text-align: right;\n",
       "    }\n",
       "</style>\n",
       "<table border=\"1\" class=\"dataframe\">\n",
       "  <thead>\n",
       "    <tr style=\"text-align: right;\">\n",
       "      <th></th>\n",
       "      <th>Entity</th>\n",
       "      <th>Code</th>\n",
       "      <th>Day</th>\n",
       "      <th>stay_home_requirements</th>\n",
       "      <th>year</th>\n",
       "    </tr>\n",
       "  </thead>\n",
       "  <tbody>\n",
       "    <tr>\n",
       "      <th>7672</th>\n",
       "      <td>Australia</td>\n",
       "      <td>AUS</td>\n",
       "      <td>2020-01-01</td>\n",
       "      <td>0</td>\n",
       "      <td>2020</td>\n",
       "    </tr>\n",
       "    <tr>\n",
       "      <th>7673</th>\n",
       "      <td>Australia</td>\n",
       "      <td>AUS</td>\n",
       "      <td>2020-01-02</td>\n",
       "      <td>0</td>\n",
       "      <td>2020</td>\n",
       "    </tr>\n",
       "    <tr>\n",
       "      <th>7674</th>\n",
       "      <td>Australia</td>\n",
       "      <td>AUS</td>\n",
       "      <td>2020-01-03</td>\n",
       "      <td>0</td>\n",
       "      <td>2020</td>\n",
       "    </tr>\n",
       "    <tr>\n",
       "      <th>7675</th>\n",
       "      <td>Australia</td>\n",
       "      <td>AUS</td>\n",
       "      <td>2020-01-04</td>\n",
       "      <td>0</td>\n",
       "      <td>2020</td>\n",
       "    </tr>\n",
       "    <tr>\n",
       "      <th>7676</th>\n",
       "      <td>Australia</td>\n",
       "      <td>AUS</td>\n",
       "      <td>2020-01-05</td>\n",
       "      <td>0</td>\n",
       "      <td>2020</td>\n",
       "    </tr>\n",
       "    <tr>\n",
       "      <th>...</th>\n",
       "      <td>...</td>\n",
       "      <td>...</td>\n",
       "      <td>...</td>\n",
       "      <td>...</td>\n",
       "      <td>...</td>\n",
       "    </tr>\n",
       "    <tr>\n",
       "      <th>192978</th>\n",
       "      <td>United States</td>\n",
       "      <td>USA</td>\n",
       "      <td>2022-12-27</td>\n",
       "      <td>1</td>\n",
       "      <td>2022</td>\n",
       "    </tr>\n",
       "    <tr>\n",
       "      <th>192979</th>\n",
       "      <td>United States</td>\n",
       "      <td>USA</td>\n",
       "      <td>2022-12-28</td>\n",
       "      <td>1</td>\n",
       "      <td>2022</td>\n",
       "    </tr>\n",
       "    <tr>\n",
       "      <th>192980</th>\n",
       "      <td>United States</td>\n",
       "      <td>USA</td>\n",
       "      <td>2022-12-29</td>\n",
       "      <td>1</td>\n",
       "      <td>2022</td>\n",
       "    </tr>\n",
       "    <tr>\n",
       "      <th>192981</th>\n",
       "      <td>United States</td>\n",
       "      <td>USA</td>\n",
       "      <td>2022-12-30</td>\n",
       "      <td>1</td>\n",
       "      <td>2022</td>\n",
       "    </tr>\n",
       "    <tr>\n",
       "      <th>192982</th>\n",
       "      <td>United States</td>\n",
       "      <td>USA</td>\n",
       "      <td>2022-12-31</td>\n",
       "      <td>1</td>\n",
       "      <td>2022</td>\n",
       "    </tr>\n",
       "  </tbody>\n",
       "</table>\n",
       "<p>3288 rows × 5 columns</p>\n",
       "</div>"
      ],
      "text/plain": [
       "               Entity Code         Day  stay_home_requirements  year\n",
       "7672        Australia  AUS  2020-01-01                       0  2020\n",
       "7673        Australia  AUS  2020-01-02                       0  2020\n",
       "7674        Australia  AUS  2020-01-03                       0  2020\n",
       "7675        Australia  AUS  2020-01-04                       0  2020\n",
       "7676        Australia  AUS  2020-01-05                       0  2020\n",
       "...               ...  ...         ...                     ...   ...\n",
       "192978  United States  USA  2022-12-27                       1  2022\n",
       "192979  United States  USA  2022-12-28                       1  2022\n",
       "192980  United States  USA  2022-12-29                       1  2022\n",
       "192981  United States  USA  2022-12-30                       1  2022\n",
       "192982  United States  USA  2022-12-31                       1  2022\n",
       "\n",
       "[3288 rows x 5 columns]"
      ]
     },
     "execution_count": 13,
     "metadata": {},
     "output_type": "execute_result"
    }
   ],
   "source": [
    "covid[\"year\"] = pd.DatetimeIndex(covid[\"Day\"]).year\n",
    "covid\n",
    "\n"
   ]
  },
  {
   "cell_type": "code",
   "execution_count": 14,
   "metadata": {},
   "outputs": [
    {
     "data": {
      "text/html": [
       "<div>\n",
       "<style scoped>\n",
       "    .dataframe tbody tr th:only-of-type {\n",
       "        vertical-align: middle;\n",
       "    }\n",
       "\n",
       "    .dataframe tbody tr th {\n",
       "        vertical-align: top;\n",
       "    }\n",
       "\n",
       "    .dataframe thead th {\n",
       "        text-align: right;\n",
       "    }\n",
       "</style>\n",
       "<table border=\"1\" class=\"dataframe\">\n",
       "  <thead>\n",
       "    <tr style=\"text-align: right;\">\n",
       "      <th></th>\n",
       "      <th>Entity</th>\n",
       "      <th>year</th>\n",
       "      <th>stay_home_requirements</th>\n",
       "    </tr>\n",
       "  </thead>\n",
       "  <tbody>\n",
       "    <tr>\n",
       "      <th>0</th>\n",
       "      <td>Australia</td>\n",
       "      <td>2020</td>\n",
       "      <td>1.183060</td>\n",
       "    </tr>\n",
       "    <tr>\n",
       "      <th>1</th>\n",
       "      <td>Australia</td>\n",
       "      <td>2021</td>\n",
       "      <td>1.030137</td>\n",
       "    </tr>\n",
       "    <tr>\n",
       "      <th>2</th>\n",
       "      <td>Australia</td>\n",
       "      <td>2022</td>\n",
       "      <td>0.120548</td>\n",
       "    </tr>\n",
       "    <tr>\n",
       "      <th>3</th>\n",
       "      <td>New Zealand</td>\n",
       "      <td>2020</td>\n",
       "      <td>0.393443</td>\n",
       "    </tr>\n",
       "    <tr>\n",
       "      <th>4</th>\n",
       "      <td>New Zealand</td>\n",
       "      <td>2021</td>\n",
       "      <td>0.657534</td>\n",
       "    </tr>\n",
       "    <tr>\n",
       "      <th>5</th>\n",
       "      <td>New Zealand</td>\n",
       "      <td>2022</td>\n",
       "      <td>0.000000</td>\n",
       "    </tr>\n",
       "    <tr>\n",
       "      <th>6</th>\n",
       "      <td>United States</td>\n",
       "      <td>2020</td>\n",
       "      <td>1.595628</td>\n",
       "    </tr>\n",
       "    <tr>\n",
       "      <th>7</th>\n",
       "      <td>United States</td>\n",
       "      <td>2021</td>\n",
       "      <td>1.169863</td>\n",
       "    </tr>\n",
       "    <tr>\n",
       "      <th>8</th>\n",
       "      <td>United States</td>\n",
       "      <td>2022</td>\n",
       "      <td>0.657534</td>\n",
       "    </tr>\n",
       "  </tbody>\n",
       "</table>\n",
       "</div>"
      ],
      "text/plain": [
       "          Entity  year  stay_home_requirements\n",
       "0      Australia  2020                1.183060\n",
       "1      Australia  2021                1.030137\n",
       "2      Australia  2022                0.120548\n",
       "3    New Zealand  2020                0.393443\n",
       "4    New Zealand  2021                0.657534\n",
       "5    New Zealand  2022                0.000000\n",
       "6  United States  2020                1.595628\n",
       "7  United States  2021                1.169863\n",
       "8  United States  2022                0.657534"
      ]
     },
     "execution_count": 14,
     "metadata": {},
     "output_type": "execute_result"
    }
   ],
   "source": [
    "covid_by_year = (\n",
    "    covid[[\"stay_home_requirements\", \"Entity\", \"year\"]].groupby(['Entity', 'year'])\n",
    "    .agg(['mean'])\n",
    ")\n",
    "\n",
    "covid_by_year = covid_by_year.droplevel(axis=1, level=1).reset_index()\n",
    "\n",
    "covid_by_year"
   ]
  },
  {
   "cell_type": "code",
   "execution_count": 15,
   "metadata": {},
   "outputs": [],
   "source": [
    "covid_by_year[\"country\"] = covid_by_year[\"Entity\"]\n",
    "covid_by_year= covid_by_year.drop(columns=[\"Entity\"])\n",
    "\n",
    "covid_by_year[\"country\"]= covid_by_year[\"country\"].str.replace(r'United States', 'USA')\n",
    "\n",
    "df_grouped[\"year\"]=df_grouped[\"year\"].astype(np.int64)"
   ]
  },
  {
   "cell_type": "code",
   "execution_count": 16,
   "metadata": {},
   "outputs": [
    {
     "data": {
      "text/html": [
       "<div>\n",
       "<style scoped>\n",
       "    .dataframe tbody tr th:only-of-type {\n",
       "        vertical-align: middle;\n",
       "    }\n",
       "\n",
       "    .dataframe tbody tr th {\n",
       "        vertical-align: top;\n",
       "    }\n",
       "\n",
       "    .dataframe thead th {\n",
       "        text-align: right;\n",
       "    }\n",
       "</style>\n",
       "<table border=\"1\" class=\"dataframe\">\n",
       "  <thead>\n",
       "    <tr style=\"text-align: right;\">\n",
       "      <th></th>\n",
       "      <th>country</th>\n",
       "      <th>stay_home_requirements</th>\n",
       "    </tr>\n",
       "  </thead>\n",
       "  <tbody>\n",
       "    <tr>\n",
       "      <th>0</th>\n",
       "      <td>Australia</td>\n",
       "      <td>1.106599</td>\n",
       "    </tr>\n",
       "    <tr>\n",
       "      <th>1</th>\n",
       "      <td>New Zealand</td>\n",
       "      <td>0.525488</td>\n",
       "    </tr>\n",
       "    <tr>\n",
       "      <th>2</th>\n",
       "      <td>USA</td>\n",
       "      <td>1.382746</td>\n",
       "    </tr>\n",
       "  </tbody>\n",
       "</table>\n",
       "</div>"
      ],
      "text/plain": [
       "       country  stay_home_requirements\n",
       "0    Australia                1.106599\n",
       "1  New Zealand                0.525488\n",
       "2          USA                1.382746"
      ]
     },
     "execution_count": 16,
     "metadata": {},
     "output_type": "execute_result"
    }
   ],
   "source": [
    "covid_by_year_viz = covid_by_year[covid_by_year[\"year\"]<=2021]\n",
    "\n",
    "\n",
    "covid_by_year_viz = (\n",
    "    covid_by_year_viz[[\"stay_home_requirements\", \"country\"]].groupby(['country'])\n",
    "    .agg(['mean'])\n",
    ")\n",
    "\n",
    "covid_by_year_viz = covid_by_year_viz.droplevel(axis=1, level=1).reset_index()\n",
    "covid_by_year_viz\n"
   ]
  },
  {
   "cell_type": "code",
   "execution_count": 17,
   "metadata": {},
   "outputs": [],
   "source": [
    "df_full = pd.merge(df_grouped,covid_by_year,how='left',left_on=[\"country\", str(\"year\")], right_on=[\"country\", str(\"year\")])"
   ]
  },
  {
   "cell_type": "code",
   "execution_count": 18,
   "metadata": {},
   "outputs": [
    {
     "data": {
      "text/html": [
       "<div>\n",
       "<style scoped>\n",
       "    .dataframe tbody tr th:only-of-type {\n",
       "        vertical-align: middle;\n",
       "    }\n",
       "\n",
       "    .dataframe tbody tr th {\n",
       "        vertical-align: top;\n",
       "    }\n",
       "\n",
       "    .dataframe thead th {\n",
       "        text-align: right;\n",
       "    }\n",
       "</style>\n",
       "<table border=\"1\" class=\"dataframe\">\n",
       "  <thead>\n",
       "    <tr style=\"text-align: right;\">\n",
       "      <th></th>\n",
       "      <th>country</th>\n",
       "      <th>year</th>\n",
       "      <th>neg</th>\n",
       "      <th>pos</th>\n",
       "      <th>neu</th>\n",
       "      <th>ratio</th>\n",
       "      <th>stay_home_requirements</th>\n",
       "    </tr>\n",
       "  </thead>\n",
       "  <tbody>\n",
       "    <tr>\n",
       "      <th>0</th>\n",
       "      <td>Australia</td>\n",
       "      <td>2019</td>\n",
       "      <td>0.109294</td>\n",
       "      <td>0.169353</td>\n",
       "      <td>0.721341</td>\n",
       "      <td>0.645363</td>\n",
       "      <td>0.000000</td>\n",
       "    </tr>\n",
       "    <tr>\n",
       "      <th>1</th>\n",
       "      <td>Australia</td>\n",
       "      <td>2020</td>\n",
       "      <td>0.116071</td>\n",
       "      <td>0.138400</td>\n",
       "      <td>0.745541</td>\n",
       "      <td>0.838660</td>\n",
       "      <td>1.183060</td>\n",
       "    </tr>\n",
       "    <tr>\n",
       "      <th>2</th>\n",
       "      <td>Australia</td>\n",
       "      <td>2021</td>\n",
       "      <td>0.118078</td>\n",
       "      <td>0.155805</td>\n",
       "      <td>0.726091</td>\n",
       "      <td>0.757856</td>\n",
       "      <td>1.030137</td>\n",
       "    </tr>\n",
       "    <tr>\n",
       "      <th>3</th>\n",
       "      <td>Australia</td>\n",
       "      <td>2022</td>\n",
       "      <td>0.107183</td>\n",
       "      <td>0.150854</td>\n",
       "      <td>0.741902</td>\n",
       "      <td>0.710509</td>\n",
       "      <td>0.120548</td>\n",
       "    </tr>\n",
       "    <tr>\n",
       "      <th>4</th>\n",
       "      <td>New Zealand</td>\n",
       "      <td>2019</td>\n",
       "      <td>0.117184</td>\n",
       "      <td>0.169539</td>\n",
       "      <td>0.713276</td>\n",
       "      <td>0.691191</td>\n",
       "      <td>0.000000</td>\n",
       "    </tr>\n",
       "    <tr>\n",
       "      <th>5</th>\n",
       "      <td>New Zealand</td>\n",
       "      <td>2020</td>\n",
       "      <td>0.114917</td>\n",
       "      <td>0.142167</td>\n",
       "      <td>0.742917</td>\n",
       "      <td>0.808324</td>\n",
       "      <td>0.393443</td>\n",
       "    </tr>\n",
       "    <tr>\n",
       "      <th>6</th>\n",
       "      <td>New Zealand</td>\n",
       "      <td>2021</td>\n",
       "      <td>0.111316</td>\n",
       "      <td>0.132595</td>\n",
       "      <td>0.756051</td>\n",
       "      <td>0.839523</td>\n",
       "      <td>0.657534</td>\n",
       "    </tr>\n",
       "    <tr>\n",
       "      <th>7</th>\n",
       "      <td>New Zealand</td>\n",
       "      <td>2022</td>\n",
       "      <td>0.110341</td>\n",
       "      <td>0.145565</td>\n",
       "      <td>0.744129</td>\n",
       "      <td>0.758021</td>\n",
       "      <td>0.000000</td>\n",
       "    </tr>\n",
       "    <tr>\n",
       "      <th>8</th>\n",
       "      <td>USA</td>\n",
       "      <td>2019</td>\n",
       "      <td>0.155149</td>\n",
       "      <td>0.125541</td>\n",
       "      <td>0.719270</td>\n",
       "      <td>1.235845</td>\n",
       "      <td>0.000000</td>\n",
       "    </tr>\n",
       "    <tr>\n",
       "      <th>9</th>\n",
       "      <td>USA</td>\n",
       "      <td>2020</td>\n",
       "      <td>0.155580</td>\n",
       "      <td>0.119942</td>\n",
       "      <td>0.724493</td>\n",
       "      <td>1.297124</td>\n",
       "      <td>1.595628</td>\n",
       "    </tr>\n",
       "    <tr>\n",
       "      <th>10</th>\n",
       "      <td>USA</td>\n",
       "      <td>2021</td>\n",
       "      <td>0.125932</td>\n",
       "      <td>0.122500</td>\n",
       "      <td>0.751419</td>\n",
       "      <td>1.028020</td>\n",
       "      <td>1.169863</td>\n",
       "    </tr>\n",
       "    <tr>\n",
       "      <th>11</th>\n",
       "      <td>USA</td>\n",
       "      <td>2022</td>\n",
       "      <td>0.113049</td>\n",
       "      <td>0.112451</td>\n",
       "      <td>0.774512</td>\n",
       "      <td>1.005314</td>\n",
       "      <td>0.657534</td>\n",
       "    </tr>\n",
       "  </tbody>\n",
       "</table>\n",
       "</div>"
      ],
      "text/plain": [
       "        country  year       neg       pos       neu     ratio  \\\n",
       "0     Australia  2019  0.109294  0.169353  0.721341  0.645363   \n",
       "1     Australia  2020  0.116071  0.138400  0.745541  0.838660   \n",
       "2     Australia  2021  0.118078  0.155805  0.726091  0.757856   \n",
       "3     Australia  2022  0.107183  0.150854  0.741902  0.710509   \n",
       "4   New Zealand  2019  0.117184  0.169539  0.713276  0.691191   \n",
       "5   New Zealand  2020  0.114917  0.142167  0.742917  0.808324   \n",
       "6   New Zealand  2021  0.111316  0.132595  0.756051  0.839523   \n",
       "7   New Zealand  2022  0.110341  0.145565  0.744129  0.758021   \n",
       "8           USA  2019  0.155149  0.125541  0.719270  1.235845   \n",
       "9           USA  2020  0.155580  0.119942  0.724493  1.297124   \n",
       "10          USA  2021  0.125932  0.122500  0.751419  1.028020   \n",
       "11          USA  2022  0.113049  0.112451  0.774512  1.005314   \n",
       "\n",
       "    stay_home_requirements  \n",
       "0                 0.000000  \n",
       "1                 1.183060  \n",
       "2                 1.030137  \n",
       "3                 0.120548  \n",
       "4                 0.000000  \n",
       "5                 0.393443  \n",
       "6                 0.657534  \n",
       "7                 0.000000  \n",
       "8                 0.000000  \n",
       "9                 1.595628  \n",
       "10                1.169863  \n",
       "11                0.657534  "
      ]
     },
     "execution_count": 18,
     "metadata": {},
     "output_type": "execute_result"
    }
   ],
   "source": [
    "df_full = df_full.replace(np.nan, 0)\n",
    "df_full"
   ]
  },
  {
   "cell_type": "code",
   "execution_count": 19,
   "metadata": {},
   "outputs": [
    {
     "data": {
      "text/plain": [
       "Text(0.5, 1.0, 'Ratio negative/positive sentiments')"
      ]
     },
     "execution_count": 19,
     "metadata": {},
     "output_type": "execute_result"
    },
    {
     "data": {
      "image/png": "[encoded data removed]",
      "text/plain": [
       "<Figure size 576x288 with 1 Axes>"
      ]
     },
     "metadata": {
      "needs_background": "light"
     },
     "output_type": "display_data"
    }
   ],
   "source": [
    "fig, g = plt.subplots(figsize=(8, 4))\n",
    "sns.lineplot(x=df_full['year'], y=df_full['ratio'], hue=df_full[\"country\"], marker='o')\n",
    "\n",
    "g.set_title('Ratio negative/positive sentiments', fontweight=\"bold\", fontsize=14) # setting title"
   ]
  },
  {
   "cell_type": "code",
   "execution_count": 20,
   "metadata": {},
   "outputs": [
    {
     "data": {
      "text/plain": [
       "Text(0.5, 1.0, 'Ratio negative/positive sentiments')"
      ]
     },
     "execution_count": 20,
     "metadata": {},
     "output_type": "execute_result"
    },
    {
     "data": {
      "image/png": "[encoded data removed]",
      "text/plain": [
       "<Figure size 576x288 with 1 Axes>"
      ]
     },
     "metadata": {
      "needs_background": "light"
     },
     "output_type": "display_data"
    }
   ],
   "source": [
    "fig, g = plt.subplots(figsize=(8, 4))\n",
    "sns.lineplot(x=df_full['year'], y=df_full['neg'], hue=df_full[\"country\"], marker='o')\n",
    "\n",
    "g.set_title('Ratio negative/positive sentiments', fontweight=\"bold\", fontsize=14) # setting title"
   ]
  },
  {
   "cell_type": "code",
   "execution_count": 21,
   "metadata": {},
   "outputs": [
    {
     "data": {
      "text/plain": [
       "Text(0.5, 1.0, 'Ratio negative/positive sentiments')"
      ]
     },
     "execution_count": 21,
     "metadata": {},
     "output_type": "execute_result"
    },
    {
     "data": {
      "image/png": "[encoded data removed]",
      "text/plain": [
       "<Figure size 576x288 with 1 Axes>"
      ]
     },
     "metadata": {
      "needs_background": "light"
     },
     "output_type": "display_data"
    }
   ],
   "source": [
    "fig, g = plt.subplots(figsize=(8, 4))\n",
    "sns.lineplot(x=df_full['year'], y=df_full['pos'], hue=df_full[\"country\"], marker='o')\n",
    "\n",
    "g.set_title('Ratio negative/positive sentiments', fontweight=\"bold\", fontsize=14) # setting title"
   ]
  },
  {
   "cell_type": "code",
   "execution_count": 22,
   "metadata": {},
   "outputs": [
    {
     "data": {
      "text/html": [
       "<div>\n",
       "<style scoped>\n",
       "    .dataframe tbody tr th:only-of-type {\n",
       "        vertical-align: middle;\n",
       "    }\n",
       "\n",
       "    .dataframe tbody tr th {\n",
       "        vertical-align: top;\n",
       "    }\n",
       "\n",
       "    .dataframe thead th {\n",
       "        text-align: right;\n",
       "    }\n",
       "</style>\n",
       "<table border=\"1\" class=\"dataframe\">\n",
       "  <thead>\n",
       "    <tr style=\"text-align: right;\">\n",
       "      <th>year</th>\n",
       "      <th>2019</th>\n",
       "      <th>2020</th>\n",
       "      <th>2021</th>\n",
       "      <th>2022</th>\n",
       "    </tr>\n",
       "    <tr>\n",
       "      <th>country</th>\n",
       "      <th></th>\n",
       "      <th></th>\n",
       "      <th></th>\n",
       "      <th></th>\n",
       "    </tr>\n",
       "  </thead>\n",
       "  <tbody>\n",
       "    <tr>\n",
       "      <th>Australia</th>\n",
       "      <td>0.645363</td>\n",
       "      <td>0.838660</td>\n",
       "      <td>0.757856</td>\n",
       "      <td>0.710509</td>\n",
       "    </tr>\n",
       "    <tr>\n",
       "      <th>New Zealand</th>\n",
       "      <td>0.691191</td>\n",
       "      <td>0.808324</td>\n",
       "      <td>0.839523</td>\n",
       "      <td>0.758021</td>\n",
       "    </tr>\n",
       "    <tr>\n",
       "      <th>USA</th>\n",
       "      <td>1.235845</td>\n",
       "      <td>1.297124</td>\n",
       "      <td>1.028020</td>\n",
       "      <td>1.005314</td>\n",
       "    </tr>\n",
       "  </tbody>\n",
       "</table>\n",
       "</div>"
      ],
      "text/plain": [
       "year             2019      2020      2021      2022\n",
       "country                                            \n",
       "Australia    0.645363  0.838660  0.757856  0.710509\n",
       "New Zealand  0.691191  0.808324  0.839523  0.758021\n",
       "USA          1.235845  1.297124  1.028020  1.005314"
      ]
     },
     "execution_count": 22,
     "metadata": {},
     "output_type": "execute_result"
    }
   ],
   "source": [
    "# Focusing on the change in sentiment\n",
    "\n",
    "df_pivot = df_full.pivot(values=\"ratio\", index=\"country\", columns=\"year\")\n",
    "df_pivot"
   ]
  },
  {
   "cell_type": "code",
   "execution_count": 23,
   "metadata": {},
   "outputs": [],
   "source": [
    "df_pivot[\"diff_2020_2019\"]=df_pivot[2020]-df_pivot[2019]\n",
    "df_pivot[\"diff_2021_2019\"]=df_pivot[2021]-df_pivot[2019]\n",
    "df_pivot[\"diff_2022_2019\"]=df_pivot[2022]-df_pivot[2019]"
   ]
  },
  {
   "cell_type": "code",
   "execution_count": 24,
   "metadata": {},
   "outputs": [
    {
     "data": {
      "text/html": [
       "<div>\n",
       "<style scoped>\n",
       "    .dataframe tbody tr th:only-of-type {\n",
       "        vertical-align: middle;\n",
       "    }\n",
       "\n",
       "    .dataframe tbody tr th {\n",
       "        vertical-align: top;\n",
       "    }\n",
       "\n",
       "    .dataframe thead th {\n",
       "        text-align: right;\n",
       "    }\n",
       "</style>\n",
       "<table border=\"1\" class=\"dataframe\">\n",
       "  <thead>\n",
       "    <tr style=\"text-align: right;\">\n",
       "      <th>year</th>\n",
       "      <th>2019</th>\n",
       "      <th>2020</th>\n",
       "      <th>2021</th>\n",
       "      <th>2022</th>\n",
       "      <th>diff_2020_2019</th>\n",
       "      <th>diff_2021_2019</th>\n",
       "      <th>diff_2022_2019</th>\n",
       "    </tr>\n",
       "    <tr>\n",
       "      <th>country</th>\n",
       "      <th></th>\n",
       "      <th></th>\n",
       "      <th></th>\n",
       "      <th></th>\n",
       "      <th></th>\n",
       "      <th></th>\n",
       "      <th></th>\n",
       "    </tr>\n",
       "  </thead>\n",
       "  <tbody>\n",
       "    <tr>\n",
       "      <th>Australia</th>\n",
       "      <td>0.645363</td>\n",
       "      <td>0.838660</td>\n",
       "      <td>0.757856</td>\n",
       "      <td>0.710509</td>\n",
       "      <td>0.193297</td>\n",
       "      <td>0.112493</td>\n",
       "      <td>0.065146</td>\n",
       "    </tr>\n",
       "    <tr>\n",
       "      <th>New Zealand</th>\n",
       "      <td>0.691191</td>\n",
       "      <td>0.808324</td>\n",
       "      <td>0.839523</td>\n",
       "      <td>0.758021</td>\n",
       "      <td>0.117132</td>\n",
       "      <td>0.148331</td>\n",
       "      <td>0.066830</td>\n",
       "    </tr>\n",
       "    <tr>\n",
       "      <th>USA</th>\n",
       "      <td>1.235845</td>\n",
       "      <td>1.297124</td>\n",
       "      <td>1.028020</td>\n",
       "      <td>1.005314</td>\n",
       "      <td>0.061279</td>\n",
       "      <td>-0.207825</td>\n",
       "      <td>-0.230531</td>\n",
       "    </tr>\n",
       "  </tbody>\n",
       "</table>\n",
       "</div>"
      ],
      "text/plain": [
       "year             2019      2020      2021      2022  diff_2020_2019  \\\n",
       "country                                                               \n",
       "Australia    0.645363  0.838660  0.757856  0.710509        0.193297   \n",
       "New Zealand  0.691191  0.808324  0.839523  0.758021        0.117132   \n",
       "USA          1.235845  1.297124  1.028020  1.005314        0.061279   \n",
       "\n",
       "year         diff_2021_2019  diff_2022_2019  \n",
       "country                                      \n",
       "Australia          0.112493        0.065146  \n",
       "New Zealand        0.148331        0.066830  \n",
       "USA               -0.207825       -0.230531  "
      ]
     },
     "execution_count": 24,
     "metadata": {},
     "output_type": "execute_result"
    }
   ],
   "source": [
    "df_pivot"
   ]
  },
  {
   "cell_type": "code",
   "execution_count": 25,
   "metadata": {},
   "outputs": [
    {
     "data": {
      "text/html": [
       "<div>\n",
       "<style scoped>\n",
       "    .dataframe tbody tr th:only-of-type {\n",
       "        vertical-align: middle;\n",
       "    }\n",
       "\n",
       "    .dataframe tbody tr th {\n",
       "        vertical-align: top;\n",
       "    }\n",
       "\n",
       "    .dataframe thead th {\n",
       "        text-align: right;\n",
       "    }\n",
       "</style>\n",
       "<table border=\"1\" class=\"dataframe\">\n",
       "  <thead>\n",
       "    <tr style=\"text-align: right;\">\n",
       "      <th>year</th>\n",
       "      <th>2019</th>\n",
       "      <th>2020</th>\n",
       "      <th>2021</th>\n",
       "      <th>2022</th>\n",
       "      <th>diff_2020_2019</th>\n",
       "      <th>diff_2021_2019</th>\n",
       "      <th>diff_2022_2019</th>\n",
       "    </tr>\n",
       "    <tr>\n",
       "      <th>country</th>\n",
       "      <th></th>\n",
       "      <th></th>\n",
       "      <th></th>\n",
       "      <th></th>\n",
       "      <th></th>\n",
       "      <th></th>\n",
       "      <th></th>\n",
       "    </tr>\n",
       "  </thead>\n",
       "  <tbody>\n",
       "    <tr>\n",
       "      <th>Australia</th>\n",
       "      <td>0.0</td>\n",
       "      <td>1.183060</td>\n",
       "      <td>1.030137</td>\n",
       "      <td>0.120548</td>\n",
       "      <td>1.183060</td>\n",
       "      <td>1.030137</td>\n",
       "      <td>0.120548</td>\n",
       "    </tr>\n",
       "    <tr>\n",
       "      <th>New Zealand</th>\n",
       "      <td>0.0</td>\n",
       "      <td>0.393443</td>\n",
       "      <td>0.657534</td>\n",
       "      <td>0.000000</td>\n",
       "      <td>0.393443</td>\n",
       "      <td>0.657534</td>\n",
       "      <td>0.000000</td>\n",
       "    </tr>\n",
       "    <tr>\n",
       "      <th>USA</th>\n",
       "      <td>0.0</td>\n",
       "      <td>1.595628</td>\n",
       "      <td>1.169863</td>\n",
       "      <td>0.657534</td>\n",
       "      <td>1.595628</td>\n",
       "      <td>1.169863</td>\n",
       "      <td>0.657534</td>\n",
       "    </tr>\n",
       "  </tbody>\n",
       "</table>\n",
       "</div>"
      ],
      "text/plain": [
       "year         2019      2020      2021      2022  diff_2020_2019  \\\n",
       "country                                                           \n",
       "Australia     0.0  1.183060  1.030137  0.120548        1.183060   \n",
       "New Zealand   0.0  0.393443  0.657534  0.000000        0.393443   \n",
       "USA           0.0  1.595628  1.169863  0.657534        1.595628   \n",
       "\n",
       "year         diff_2021_2019  diff_2022_2019  \n",
       "country                                      \n",
       "Australia          1.030137        0.120548  \n",
       "New Zealand        0.657534        0.000000  \n",
       "USA                1.169863        0.657534  "
      ]
     },
     "execution_count": 25,
     "metadata": {},
     "output_type": "execute_result"
    }
   ],
   "source": [
    "df_pivot_covid = df_full.pivot(values=\"stay_home_requirements\", index=\"country\", columns=\"year\")\n",
    "df_pivot_covid[\"diff_2020_2019\"]=df_pivot_covid[2020]-df_pivot_covid[2019]\n",
    "df_pivot_covid[\"diff_2021_2019\"]=df_pivot_covid[2021]-df_pivot_covid[2019]\n",
    "df_pivot_covid[\"diff_2022_2019\"]=df_pivot_covid[2022]-df_pivot_covid[2019]\n",
    "df_pivot_covid"
   ]
  },
  {
   "attachments": {},
   "cell_type": "markdown",
   "metadata": {},
   "source": [
    "## Implementing a Diff-in-Diff model"
   ]
  },
  {
   "attachments": {},
   "cell_type": "markdown",
   "metadata": {},
   "source": [
    "Our proposed model is the following:\n",
    "$Y= \\beta_0 + \\beta_1covid + \\beta_2lockdown + \\beta_3(covid*lockdown) + \\epsilon$\n",
    "\n",
    "Where:\n",
    "\n",
    "+ $Y = \\Delta_{sentiment}$, considering as main measure a ratio negative/positive sentiment in song lyrics\n",
    "+ $\\beta_1covid$ are time fixed effects (pre-covid/post covid)\n",
    "+ $\\beta_2lockdown$ are group (country) fixed effects\n",
    "+ $\\beta_3(covid*lockdown)$ are the effects of the treatment variable\n",
    "\n",
    "Treatment: strict lockdowns at the country level."
   ]
  },
  {
   "cell_type": "code",
   "execution_count": 26,
   "metadata": {},
   "outputs": [
    {
     "data": {
      "text/html": [
       "<div>\n",
       "<style scoped>\n",
       "    .dataframe tbody tr th:only-of-type {\n",
       "        vertical-align: middle;\n",
       "    }\n",
       "\n",
       "    .dataframe tbody tr th {\n",
       "        vertical-align: top;\n",
       "    }\n",
       "\n",
       "    .dataframe thead th {\n",
       "        text-align: right;\n",
       "    }\n",
       "</style>\n",
       "<table border=\"1\" class=\"dataframe\">\n",
       "  <thead>\n",
       "    <tr style=\"text-align: right;\">\n",
       "      <th></th>\n",
       "      <th>Unnamed: 0.3</th>\n",
       "      <th>Unnamed: 0.2</th>\n",
       "      <th>Unnamed: 0.1</th>\n",
       "      <th>Unnamed: 0</th>\n",
       "      <th>songs</th>\n",
       "      <th>artist</th>\n",
       "      <th>title</th>\n",
       "      <th>lyrics</th>\n",
       "      <th>sentiment</th>\n",
       "      <th>neg</th>\n",
       "      <th>neu</th>\n",
       "      <th>pos</th>\n",
       "      <th>compound</th>\n",
       "      <th>year</th>\n",
       "      <th>country</th>\n",
       "    </tr>\n",
       "  </thead>\n",
       "  <tbody>\n",
       "    <tr>\n",
       "      <th>0</th>\n",
       "      <td>0</td>\n",
       "      <td>3</td>\n",
       "      <td>3</td>\n",
       "      <td>3</td>\n",
       "      <td>Drip Too Hard</td>\n",
       "      <td>Lil Baby, Gunna</td>\n",
       "      <td>Top Songs of 2019: USA</td>\n",
       "      <td>['hard', 'run', 'back', 'turbo', 'get', 'bigge...</td>\n",
       "      <td>{'neg': 0.266, 'neu': 0.694, 'pos': 0.04, 'com...</td>\n",
       "      <td>0.266</td>\n",
       "      <td>0.694</td>\n",
       "      <td>0.040</td>\n",
       "      <td>-0.9974</td>\n",
       "      <td>2019</td>\n",
       "      <td>USA</td>\n",
       "    </tr>\n",
       "    <tr>\n",
       "      <th>1</th>\n",
       "      <td>1</td>\n",
       "      <td>5</td>\n",
       "      <td>5</td>\n",
       "      <td>5</td>\n",
       "      <td>MIDDLE CHILD</td>\n",
       "      <td>J. Cole</td>\n",
       "      <td>Top Songs of 2019: USA</td>\n",
       "      <td>['child', 'good', 'tminu', 'nigga', 'countin',...</td>\n",
       "      <td>{'neg': 0.161, 'neu': 0.7, 'pos': 0.139, 'comp...</td>\n",
       "      <td>0.161</td>\n",
       "      <td>0.700</td>\n",
       "      <td>0.139</td>\n",
       "      <td>-0.9113</td>\n",
       "      <td>2019</td>\n",
       "      <td>USA</td>\n",
       "    </tr>\n",
       "    <tr>\n",
       "      <th>2</th>\n",
       "      <td>2</td>\n",
       "      <td>6</td>\n",
       "      <td>6</td>\n",
       "      <td>6</td>\n",
       "      <td>SICKO MODE</td>\n",
       "      <td>Travis Scott</td>\n",
       "      <td>Top Songs of 2019: USA</td>\n",
       "      <td>['mode', 'astro', 'sun', 'freezin', 'cold', 't...</td>\n",
       "      <td>{'neg': 0.139, 'neu': 0.733, 'pos': 0.129, 'co...</td>\n",
       "      <td>0.139</td>\n",
       "      <td>0.733</td>\n",
       "      <td>0.129</td>\n",
       "      <td>-0.6941</td>\n",
       "      <td>2019</td>\n",
       "      <td>USA</td>\n",
       "    </tr>\n",
       "    <tr>\n",
       "      <th>3</th>\n",
       "      <td>3</td>\n",
       "      <td>7</td>\n",
       "      <td>7</td>\n",
       "      <td>7</td>\n",
       "      <td>Suge</td>\n",
       "      <td>DaBaby</td>\n",
       "      <td>Top Songs of 2019: USA</td>\n",
       "      <td>['suge', 'pooh', 'fool', 'one', 'ha', 'oh', 'l...</td>\n",
       "      <td>{'neg': 0.184, 'neu': 0.628, 'pos': 0.188, 'co...</td>\n",
       "      <td>0.184</td>\n",
       "      <td>0.628</td>\n",
       "      <td>0.188</td>\n",
       "      <td>-0.9576</td>\n",
       "      <td>2019</td>\n",
       "      <td>USA</td>\n",
       "    </tr>\n",
       "    <tr>\n",
       "      <th>4</th>\n",
       "      <td>4</td>\n",
       "      <td>8</td>\n",
       "      <td>8</td>\n",
       "      <td>8</td>\n",
       "      <td>7 rings</td>\n",
       "      <td>Ariana Grande</td>\n",
       "      <td>Top Songs of 2019: USA</td>\n",
       "      <td>['ring', 'breakfast', 'tiffani', 'bottl', 'bub...</td>\n",
       "      <td>{'neg': 0.116, 'neu': 0.652, 'pos': 0.232, 'co...</td>\n",
       "      <td>0.116</td>\n",
       "      <td>0.652</td>\n",
       "      <td>0.232</td>\n",
       "      <td>0.9064</td>\n",
       "      <td>2019</td>\n",
       "      <td>USA</td>\n",
       "    </tr>\n",
       "  </tbody>\n",
       "</table>\n",
       "</div>"
      ],
      "text/plain": [
       "   Unnamed: 0.3  Unnamed: 0.2  Unnamed: 0.1  Unnamed: 0          songs  \\\n",
       "0             0             3             3           3  Drip Too Hard   \n",
       "1             1             5             5           5   MIDDLE CHILD   \n",
       "2             2             6             6           6     SICKO MODE   \n",
       "3             3             7             7           7           Suge   \n",
       "4             4             8             8           8        7 rings   \n",
       "\n",
       "            artist                   title  \\\n",
       "0  Lil Baby, Gunna  Top Songs of 2019: USA   \n",
       "1          J. Cole  Top Songs of 2019: USA   \n",
       "2     Travis Scott  Top Songs of 2019: USA   \n",
       "3           DaBaby  Top Songs of 2019: USA   \n",
       "4    Ariana Grande  Top Songs of 2019: USA   \n",
       "\n",
       "                                              lyrics  \\\n",
       "0  ['hard', 'run', 'back', 'turbo', 'get', 'bigge...   \n",
       "1  ['child', 'good', 'tminu', 'nigga', 'countin',...   \n",
       "2  ['mode', 'astro', 'sun', 'freezin', 'cold', 't...   \n",
       "3  ['suge', 'pooh', 'fool', 'one', 'ha', 'oh', 'l...   \n",
       "4  ['ring', 'breakfast', 'tiffani', 'bottl', 'bub...   \n",
       "\n",
       "                                           sentiment    neg    neu    pos  \\\n",
       "0  {'neg': 0.266, 'neu': 0.694, 'pos': 0.04, 'com...  0.266  0.694  0.040   \n",
       "1  {'neg': 0.161, 'neu': 0.7, 'pos': 0.139, 'comp...  0.161  0.700  0.139   \n",
       "2  {'neg': 0.139, 'neu': 0.733, 'pos': 0.129, 'co...  0.139  0.733  0.129   \n",
       "3  {'neg': 0.184, 'neu': 0.628, 'pos': 0.188, 'co...  0.184  0.628  0.188   \n",
       "4  {'neg': 0.116, 'neu': 0.652, 'pos': 0.232, 'co...  0.116  0.652  0.232   \n",
       "\n",
       "   compound  year country  \n",
       "0   -0.9974  2019     USA  \n",
       "1   -0.9113  2019     USA  \n",
       "2   -0.6941  2019     USA  \n",
       "3   -0.9576  2019     USA  \n",
       "4    0.9064  2019     USA  "
      ]
     },
     "execution_count": 26,
     "metadata": {},
     "output_type": "execute_result"
    }
   ],
   "source": [
    "# First we restructure our dataset\n",
    "\n",
    "df.head()"
   ]
  },
  {
   "cell_type": "code",
   "execution_count": 27,
   "metadata": {},
   "outputs": [],
   "source": [
    "# We keep only Australia and NZ, and 2019 and 2020\n",
    "\n",
    "df_diff = df[(df[\"country\"]==\"USA\") | (df[\"country\"]==\"New Zealand\")]\n",
    "df_diff = df_diff[(df_diff[\"year\"]==\"2019\") | (df_diff[\"year\"]==\"2020\") | (df_diff[\"year\"]==\"2021\")]\n"
   ]
  },
  {
   "cell_type": "code",
   "execution_count": 28,
   "metadata": {},
   "outputs": [],
   "source": [
    "# Time variable\n",
    "df_diff[\"time\"]=np.where(df_diff[\"year\"]==\"2019\", 0, 1)\n",
    "# group variable (treatment)\n",
    "df_diff['group'] = np.where(df_diff['country']==\"USA\" , 1,0 )\n",
    "#creating interaction variable\n",
    "df_diff['did'] = df_diff['time'] * df_diff['group']"
   ]
  },
  {
   "cell_type": "code",
   "execution_count": 29,
   "metadata": {},
   "outputs": [],
   "source": [
    "df_diff[\"ratio\"]=df_diff[\"neg\"]/df_diff[\"pos\"]"
   ]
  },
  {
   "cell_type": "code",
   "execution_count": null,
   "metadata": {},
   "outputs": [],
   "source": [
    "\n",
    "    "
   ]
  },
  {
   "cell_type": "code",
   "execution_count": 44,
   "metadata": {},
   "outputs": [],
   "source": [
    "#Splitting variables into dependent (x) and independent (y) variables\n",
    "#x = df_diff.iloc[:,9:12]\n",
    "x = df_diff.loc[:, [\"time\",\"group\",\"did\"]]\n",
    "y = df_diff[\"ratio\"]\n",
    "\n",
    "# There are three null values in y and 4 inf, we replace with 0 to be able to run the regression\n",
    "\n",
    "y = y.replace(np.nan, 0)\n",
    "y.replace([np.inf, -np.inf], 0, inplace=True)"
   ]
  },
  {
   "cell_type": "code",
   "execution_count": 117,
   "metadata": {},
   "outputs": [
    {
     "data": {
      "text/plain": [
       "0"
      ]
     },
     "execution_count": 117,
     "metadata": {},
     "output_type": "execute_result"
    }
   ],
   "source": [
    "y.isnull().sum()"
   ]
  },
  {
   "cell_type": "code",
   "execution_count": 118,
   "metadata": {},
   "outputs": [
    {
     "data": {
      "text/plain": [
       "0"
      ]
     },
     "execution_count": 118,
     "metadata": {},
     "output_type": "execute_result"
    }
   ],
   "source": [
    "number_inf = y[y == np.inf].count()\n",
    "number_inf"
   ]
  },
  {
   "cell_type": "code",
   "execution_count": 119,
   "metadata": {},
   "outputs": [
    {
     "data": {
      "text/plain": [
       "LinearRegression()"
      ]
     },
     "execution_count": 119,
     "metadata": {},
     "output_type": "execute_result"
    }
   ],
   "source": [
    "model = LinearRegression()\n",
    "model.fit(x, y)\n"
   ]
  },
  {
   "cell_type": "code",
   "execution_count": 120,
   "metadata": {},
   "outputs": [
    {
     "data": {
      "text/plain": [
       "array([-0.00401243,  0.03796444, -0.01089846])"
      ]
     },
     "execution_count": 120,
     "metadata": {},
     "output_type": "execute_result"
    }
   ],
   "source": [
    "model.coef_"
   ]
  },
  {
   "cell_type": "code",
   "execution_count": 45,
   "metadata": {},
   "outputs": [
    {
     "name": "stdout",
     "output_type": "stream",
     "text": [
      "                            OLS Regression Results                            \n",
      "==============================================================================\n",
      "Dep. Variable:                  ratio   R-squared:                       0.009\n",
      "Model:                            OLS   Adj. R-squared:                  0.003\n",
      "Method:                 Least Squares   F-statistic:                     1.428\n",
      "Date:                Tue, 21 Feb 2023   Prob (F-statistic):              0.234\n",
      "Time:                        11:18:29   Log-Likelihood:                -1210.1\n",
      "No. Observations:                 456   AIC:                             2428.\n",
      "Df Residuals:                     452   BIC:                             2445.\n",
      "Df Model:                           3                                         \n",
      "Covariance Type:            nonrobust                                         \n",
      "==============================================================================\n",
      "                 coef    std err          t      P>|t|      [0.025      0.975]\n",
      "------------------------------------------------------------------------------\n",
      "const          1.9049      0.396      4.810      0.000       1.127       2.683\n",
      "time          -0.2237      0.480     -0.466      0.641      -1.166       0.719\n",
      "group          0.7626      0.564      1.352      0.177      -0.346       1.871\n",
      "did           -0.5832      0.689     -0.847      0.398      -1.937       0.771\n",
      "==============================================================================\n",
      "Omnibus:                      514.065   Durbin-Watson:                   1.927\n",
      "Prob(Omnibus):                  0.000   Jarque-Bera (JB):            28987.196\n",
      "Skew:                           5.234   Prob(JB):                         0.00\n",
      "Kurtosis:                      40.630   Cond. No.                         8.36\n",
      "==============================================================================\n",
      "\n",
      "Notes:\n",
      "[1] Standard Errors assume that the covariance matrix of the errors is correctly specified.\n"
     ]
    }
   ],
   "source": [
    "X2 = sm.add_constant(x)\n",
    "est = sm.OLS(y, X2)\n",
    "est2 = est.fit()\n",
    "print(est2.summary())"
   ]
  },
  {
   "attachments": {},
   "cell_type": "markdown",
   "metadata": {},
   "source": [
    "The model is not significant. Improving Y variable:"
   ]
  },
  {
   "cell_type": "code",
   "execution_count": 34,
   "metadata": {},
   "outputs": [],
   "source": [
    "df_cov = pd.read_csv(\"data/lists of songs/full_dataset.csv\")"
   ]
  },
  {
   "cell_type": "code",
   "execution_count": 35,
   "metadata": {},
   "outputs": [
    {
     "data": {
      "text/plain": [
       "Index(['Unnamed: 0', 'songs', 'title', 'lyrics', 'enumerated_list',\n",
       "       'lyrics_not_found', 'danceability', 'energy', 'key', 'loudness', 'mode',\n",
       "       'speechiness', 'acousticness', 'instrumentalness', 'liveness',\n",
       "       'valence', 'tempo', 'year', 'country', 'artist'],\n",
       "      dtype='object')"
      ]
     },
     "execution_count": 35,
     "metadata": {},
     "output_type": "execute_result"
    }
   ],
   "source": [
    "df_cov.columns"
   ]
  },
  {
   "cell_type": "code",
   "execution_count": 36,
   "metadata": {},
   "outputs": [],
   "source": [
    "df_cov = df_cov.loc[:, ['danceability', 'energy', 'key', 'loudness', 'mode',\n",
    "       'speechiness', 'acousticness', 'instrumentalness', 'liveness',\n",
    "       'valence', 'tempo', 'year', 'country', 'artist', 'songs']]"
   ]
  },
  {
   "cell_type": "code",
   "execution_count": 37,
   "metadata": {},
   "outputs": [],
   "source": [
    "df_cov[\"year\"]=df_cov[\"year\"].astype(\"str\")"
   ]
  },
  {
   "cell_type": "code",
   "execution_count": 38,
   "metadata": {},
   "outputs": [],
   "source": [
    "df_cov[\"minor_mode\"]=np.where(df_cov[\"mode\"]==1, 0, 1)"
   ]
  },
  {
   "cell_type": "code",
   "execution_count": 97,
   "metadata": {},
   "outputs": [],
   "source": [
    "# Resetting df_diff\n",
    "\n",
    "df_diff = df[(df[\"country\"]==\"USA\") | (df[\"country\"]==\"New Zealand\")]\n",
    "#df_diff = df_diff[(df_diff[\"year\"]==\"2019\") | (df_diff[\"year\"]==\"2020\")]\n",
    "df_diff = df_diff[(df_diff[\"year\"]==\"2019\") | (df_diff[\"year\"]==\"2020\") | (df_diff[\"year\"]==\"2021\")]\n",
    "# Time variable\n",
    "df_diff[\"time\"]=np.where(df_diff[\"year\"]==\"2019\", 0, 1)\n",
    "# group variable (treatment)\n",
    "df_diff['group'] = np.where(df_diff['country']==\"New Zealand\" , 0,1 )\n",
    "#creating interaction variable\n",
    "df_diff['did'] = df_diff['time'] * df_diff['group']"
   ]
  },
  {
   "cell_type": "code",
   "execution_count": 98,
   "metadata": {},
   "outputs": [],
   "source": [
    "df_diff_2 = pd.merge(df_diff,df_cov,how='left',left_on=[\"country\", \"year\", \"artist\", \"songs\"], right_on=[\"country\", \"year\", \"artist\", \"songs\"])"
   ]
  },
  {
   "cell_type": "code",
   "execution_count": 99,
   "metadata": {},
   "outputs": [],
   "source": [
    "df_diff_2 = df_diff_2.replace(np.nan, 0)\n",
    "df_diff_2.replace([np.inf, -np.inf], 0, inplace=True)"
   ]
  },
  {
   "attachments": {},
   "cell_type": "markdown",
   "metadata": {},
   "source": [
    "As dependent variable, we are defining a 'gloom index'. This is defined as follows:\n",
    "\n",
    "$Y_{gloom index}=\\frac{(1-valence) + (1-danceability)}{2} + negative lyrics*speechiness*2$\n",
    "\n",
    "This index gives different weights to different variables. 2/3 of the final value is given by the negative sentiments of the lyrics (note that the amount of negative words are weighted by the speechines or lyrical density of the song (i.e. the number of words of the song, standarized according to song length). Finally, 1/3 of the final value of the index is given by adding two Spotify features: (1-) valence (that is, happiness of the song), and (1-) danceability (that is, how much you can dance to the song). Both are substracted from 1 to get the inverse of the actual value. "
   ]
  },
  {
   "cell_type": "code",
   "execution_count": 100,
   "metadata": {},
   "outputs": [
    {
     "data": {
      "text/plain": [
       "<AxesSubplot:>"
      ]
     },
     "execution_count": 100,
     "metadata": {},
     "output_type": "execute_result"
    },
    {
     "data": {
      "image/png": "[encoded data removed]",
      "text/plain": [
       "<Figure size 432x288 with 1 Axes>"
      ]
     },
     "metadata": {
      "needs_background": "light"
     },
     "output_type": "display_data"
    }
   ],
   "source": [
    "df_diff_2[\"gloom_index\"]=(((1-df_diff_2[\"valence\"])+(1-df_diff_2['danceability']))/2+df_diff_2[\"neg\"]*df_diff_2[\"speechiness\"]*2)\n",
    "df_diff_2[\"gloom_index\"].hist()"
   ]
  },
  {
   "cell_type": "code",
   "execution_count": 101,
   "metadata": {},
   "outputs": [
    {
     "data": {
      "text/plain": [
       "Index(['Unnamed: 0.3', 'Unnamed: 0.2', 'Unnamed: 0.1', 'Unnamed: 0', 'songs',\n",
       "       'artist', 'title', 'lyrics', 'sentiment', 'neg', 'neu', 'pos',\n",
       "       'compound', 'year', 'country', 'time', 'group', 'did', 'danceability',\n",
       "       'energy', 'key', 'loudness', 'mode', 'speechiness', 'acousticness',\n",
       "       'instrumentalness', 'liveness', 'valence', 'tempo', 'minor_mode',\n",
       "       'gloom_index'],\n",
       "      dtype='object')"
      ]
     },
     "execution_count": 101,
     "metadata": {},
     "output_type": "execute_result"
    }
   ],
   "source": [
    "df_diff_2.columns"
   ]
  },
  {
   "cell_type": "code",
   "execution_count": 102,
   "metadata": {},
   "outputs": [],
   "source": [
    "#Splitting variables into dependent (x) and independent (y) variables\n",
    "#x = df_diff.iloc[:,9:12]\n",
    "x = df_diff_2.loc[:, [\"time\",\"group\",\"did\"]]\n",
    "y = df_diff_2[\"gloom_index\"]\n",
    "\n",
    "# There are three null values in y and 4 inf, we replace with 0 to be able to run the regression\n",
    "\n",
    "y = y.replace(np.nan, 0)\n",
    "y.replace([np.inf, -np.inf], 0, inplace=True)"
   ]
  },
  {
   "cell_type": "code",
   "execution_count": 103,
   "metadata": {},
   "outputs": [
    {
     "data": {
      "text/plain": [
       "LinearRegression()"
      ]
     },
     "execution_count": 103,
     "metadata": {},
     "output_type": "execute_result"
    }
   ],
   "source": [
    "model = LinearRegression()\n",
    "model.fit(x, y)"
   ]
  },
  {
   "cell_type": "code",
   "execution_count": 104,
   "metadata": {},
   "outputs": [
    {
     "name": "stdout",
     "output_type": "stream",
     "text": [
      "                            OLS Regression Results                            \n",
      "==============================================================================\n",
      "Dep. Variable:            gloom_index   R-squared:                       0.029\n",
      "Model:                            OLS   Adj. R-squared:                  0.023\n",
      "Method:                 Least Squares   F-statistic:                     4.653\n",
      "Date:                Tue, 21 Feb 2023   Prob (F-statistic):            0.00324\n",
      "Time:                        11:36:37   Log-Likelihood:                 158.98\n",
      "No. Observations:                 464   AIC:                            -310.0\n",
      "Df Residuals:                     460   BIC:                            -293.4\n",
      "Df Model:                           3                                         \n",
      "Covariance Type:            nonrobust                                         \n",
      "==============================================================================\n",
      "                 coef    std err          t      P>|t|      [0.025      0.975]\n",
      "------------------------------------------------------------------------------\n",
      "const          0.4768      0.020     24.249      0.000       0.438       0.515\n",
      "time          -0.0490      0.024     -2.059      0.040      -0.096      -0.002\n",
      "group          0.0006      0.028      0.022      0.983      -0.055       0.056\n",
      "did            0.0700      0.034      2.047      0.041       0.003       0.137\n",
      "==============================================================================\n",
      "Omnibus:                       39.136   Durbin-Watson:                   2.041\n",
      "Prob(Omnibus):                  0.000   Jarque-Bera (JB):               52.667\n",
      "Skew:                           0.643   Prob(JB):                     3.66e-12\n",
      "Kurtosis:                       4.035   Cond. No.                         8.41\n",
      "==============================================================================\n",
      "\n",
      "Notes:\n",
      "[1] Standard Errors assume that the covariance matrix of the errors is correctly specified.\n"
     ]
    }
   ],
   "source": [
    "X2 = sm.add_constant(x)\n",
    "est = sm.OLS(y, X2)\n",
    "est2 = est.fit()\n",
    "print(est2.summary())"
   ]
  },
  {
   "attachments": {},
   "cell_type": "markdown",
   "metadata": {},
   "source": [
    "With our 'gloom index' as dependent variable we have significance 😁"
   ]
  },
  {
   "cell_type": "code",
   "execution_count": 110,
   "metadata": {},
   "outputs": [],
   "source": [
    "def x_y (treated, y_selected, df):\n",
    "    dataset = df[(df[\"country\"]==treated) | (df[\"country\"]==\"New Zealand\")]\n",
    "    dataset = dataset[(dataset[\"year\"]==\"2019\") | (dataset[\"year\"]==\"2020\") | (dataset[\"year\"]==\"2021\")]\n",
    "\n",
    "    # Time variable\n",
    "    dataset[\"time\"]=np.where(dataset[\"year\"]==\"2019\", 0, 1)\n",
    "    # group variable (treatment)\n",
    "    dataset['group'] = np.where(dataset['country']==\"New Zealand\", 0,1)\n",
    "    #creating interaction variable\n",
    "    dataset['did'] = dataset['time'] * dataset['group']\n",
    "    \n",
    "    #Splitting variables into dependent (x) and independent (y) variables\n",
    "\n",
    "    x = dataset.loc[:, [\"time\",\"group\",\"did\"]]\n",
    "    y = dataset[y_selected]\n",
    "    y = y.replace(np.nan, 0)\n",
    "    y.replace([np.inf, -np.inf], 0, inplace=True)\n",
    "\n",
    "\n",
    "    return x, y"
   ]
  },
  {
   "cell_type": "code",
   "execution_count": 111,
   "metadata": {},
   "outputs": [],
   "source": [
    "df_merged = pd.merge(df,df_cov,how='left',left_on=[\"country\", \"year\", \"artist\", \"songs\"], right_on=[\"country\", \"year\", \"artist\", \"songs\"])\n",
    "df_merged = df_merged.replace(np.nan, 0)\n",
    "df_merged.replace([np.inf, -np.inf], 0, inplace=True)"
   ]
  },
  {
   "cell_type": "code",
   "execution_count": 112,
   "metadata": {},
   "outputs": [
    {
     "data": {
      "text/plain": [
       "<AxesSubplot:>"
      ]
     },
     "execution_count": 112,
     "metadata": {},
     "output_type": "execute_result"
    },
    {
     "data": {
      "image/png": "[encoded data removed]",
      "text/plain": [
       "<Figure size 432x288 with 1 Axes>"
      ]
     },
     "metadata": {
      "needs_background": "light"
     },
     "output_type": "display_data"
    }
   ],
   "source": [
    "df_merged[\"gloom_index\"]=(((1-df_merged[\"valence\"])+(1-df_merged['danceability']))/2+df_merged[\"neg\"]*df_merged[\"speechiness\"]*2)\n",
    "df_merged[\"gloom_index\"].hist()"
   ]
  },
  {
   "cell_type": "code",
   "execution_count": 113,
   "metadata": {},
   "outputs": [],
   "source": [
    "df_merged[\"ratio\"]=df_merged[\"neg\"]/df_merged[\"pos\"]"
   ]
  },
  {
   "cell_type": "code",
   "execution_count": 114,
   "metadata": {},
   "outputs": [],
   "source": [
    "# Instantiating models\n",
    "\n",
    "x, y= x_y(treated=\"Australia\", y_selected=\"ratio\", df=df_merged)\n",
    "X2 = sm.add_constant(x)\n",
    "model1 = sm.OLS(y,X2).fit()\n",
    "\n",
    "x, y= x_y(treated=\"USA\", y_selected=\"ratio\", df=df_merged)\n",
    "X2 = sm.add_constant(x)\n",
    "model2 = sm.OLS(y,X2).fit()\n",
    "\n",
    "x, y= x_y(treated=\"Australia\", y_selected=\"gloom_index\", df=df_merged)\n",
    "X2 = sm.add_constant(x)\n",
    "model3 = sm.OLS(y,X2).fit()\n",
    "\n",
    "x, y= x_y(treated=\"USA\", y_selected=\"gloom_index\", df=df_merged)\n",
    "X2 = sm.add_constant(x)\n",
    "model4 = sm.OLS(y,X2).fit()"
   ]
  },
  {
   "cell_type": "code",
   "execution_count": 115,
   "metadata": {},
   "outputs": [
    {
     "name": "stdout",
     "output_type": "stream",
     "text": [
      "                            OLS Regression Results                            \n",
      "==============================================================================\n",
      "Dep. Variable:            gloom_index   R-squared:                       0.029\n",
      "Model:                            OLS   Adj. R-squared:                  0.023\n",
      "Method:                 Least Squares   F-statistic:                     4.653\n",
      "Date:                Tue, 21 Feb 2023   Prob (F-statistic):            0.00324\n",
      "Time:                        11:38:49   Log-Likelihood:                 158.98\n",
      "No. Observations:                 464   AIC:                            -310.0\n",
      "Df Residuals:                     460   BIC:                            -293.4\n",
      "Df Model:                           3                                         \n",
      "Covariance Type:            nonrobust                                         \n",
      "==============================================================================\n",
      "                 coef    std err          t      P>|t|      [0.025      0.975]\n",
      "------------------------------------------------------------------------------\n",
      "const          0.4768      0.020     24.249      0.000       0.438       0.515\n",
      "time          -0.0490      0.024     -2.059      0.040      -0.096      -0.002\n",
      "group          0.0006      0.028      0.022      0.983      -0.055       0.056\n",
      "did            0.0700      0.034      2.047      0.041       0.003       0.137\n",
      "==============================================================================\n",
      "Omnibus:                       39.136   Durbin-Watson:                   2.041\n",
      "Prob(Omnibus):                  0.000   Jarque-Bera (JB):               52.667\n",
      "Skew:                           0.643   Prob(JB):                     3.66e-12\n",
      "Kurtosis:                       4.035   Cond. No.                         8.41\n",
      "==============================================================================\n",
      "\n",
      "Notes:\n",
      "[1] Standard Errors assume that the covariance matrix of the errors is correctly specified.\n"
     ]
    }
   ],
   "source": [
    "print(model4.summary())"
   ]
  },
  {
   "cell_type": "code",
   "execution_count": 118,
   "metadata": {},
   "outputs": [
    {
     "name": "stderr",
     "output_type": "stream",
     "text": [
      "c:\\Users\\danid\\anaconda3\\lib\\site-packages\\pystout\\pystout.py:377: FutureWarning: The frame.append method is deprecated and will be removed from pandas in a future version. Use pandas.concat instead.\n",
      "  options = options.append(pd.DataFrame([r],index=[value]))\n",
      "c:\\Users\\danid\\anaconda3\\lib\\site-packages\\pystout\\pystout.py:377: FutureWarning: The frame.append method is deprecated and will be removed from pandas in a future version. Use pandas.concat instead.\n",
      "  options = options.append(pd.DataFrame([r],index=[value]))\n",
      "c:\\Users\\danid\\anaconda3\\lib\\site-packages\\pystout\\pystout.py:377: FutureWarning: The frame.append method is deprecated and will be removed from pandas in a future version. Use pandas.concat instead.\n",
      "  options = options.append(pd.DataFrame([r],index=[value]))\n"
     ]
    }
   ],
   "source": [
    "# =============================================================================\n",
    "# Print result\n",
    "# =============================================================================\n",
    "pystout(models=[model1,model2,model3,model4],\n",
    "        file='test_table.tex',\n",
    "        addnotes=['* Significant at the 0.05 level'],\n",
    "        digits=2,\n",
    "        endog_names=['AUS','USA','AUS','USA'],\n",
    "        varlabels={'const':'Constant','time':'Time (Covid)','group':'Country', 'did':'Treatment(DiD)'},\n",
    "        #addrows={'Test':['A','Test','Row','Here','Too']},\n",
    "        mgroups={'Sentiment':[1,2],'Gloom Index':[3,4]},\n",
    "        modstat={'nobs':'Obs','rsquared_adj':'Adj. R\\sym{2}','fvalue':'F-stat'}\n",
    "        )"
   ]
  }
 ],
 "metadata": {
  "kernelspec": {
   "display_name": "base",
   "language": "python",
   "name": "python3"
  },
  "language_info": {
   "codemirror_mode": {
    "name": "ipython",
    "version": 3
   },
   "file_extension": ".py",
   "mimetype": "text/x-python",
   "name": "python",
   "nbconvert_exporter": "python",
   "pygments_lexer": "ipython3",
   "version": "3.9.12"
  },
  "orig_nbformat": 4,
  "vscode": {
   "interpreter": {
    "hash": "a9bf44a63aa85fc488ba2c18070365b0fdf586414cbab845f059fd6426d069d2"
   }
  }
 },
 "nbformat": 4,
 "nbformat_minor": 2
}
