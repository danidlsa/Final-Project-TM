{
 "cells": [
  {
   "cell_type": "code",
   "execution_count": 1,
   "metadata": {},
   "outputs": [],
   "source": [
    "import pandas as pd\n",
    "import matplotlib.pyplot as plt\n",
    "import seaborn as sns\n",
    "import datetime\n",
    "import re \n",
    "import numpy as np\n",
    "from sklearn.linear_model import LinearRegression\n",
    "from pystout import pystout\n",
    "import statsmodels.api as sm"
   ]
  },
  {
   "cell_type": "code",
   "execution_count": 7,
   "metadata": {},
   "outputs": [],
   "source": [
    "df = pd.read_csv(\"data/full_dataset_sentiment_analysis.csv\")"
   ]
  },
  {
   "cell_type": "code",
   "execution_count": 9,
   "metadata": {},
   "outputs": [
    {
     "name": "stdout",
     "output_type": "stream",
     "text": [
      "<class 'pandas.core.frame.DataFrame'>\n",
      "RangeIndex: 952 entries, 0 to 951\n",
      "Data columns (total 11 columns):\n",
      " #   Column     Non-Null Count  Dtype  \n",
      "---  ------     --------------  -----  \n",
      " 0   songs      952 non-null    object \n",
      " 1   artist     952 non-null    object \n",
      " 2   title      952 non-null    object \n",
      " 3   lyrics     952 non-null    object \n",
      " 4   sentiment  952 non-null    object \n",
      " 5   neg        952 non-null    float64\n",
      " 6   neu        952 non-null    float64\n",
      " 7   pos        952 non-null    float64\n",
      " 8   compound   952 non-null    float64\n",
      " 9   year       952 non-null    object \n",
      " 10  country    952 non-null    object \n",
      "dtypes: float64(4), object(7)\n",
      "memory usage: 81.9+ KB\n"
     ]
    }
   ],
   "source": [
    "# A small final pre-processing\n",
    "df['year'] = df['title'].str.extract('(\\d{4})', expand=True)\n",
    "df['country'] = df['title'].str.extract(r'Top Songs of (\\d\\d\\d\\d): (.*)')[1]\n",
    "df = df.drop(columns=[\"enumerated_list\", \"lyrics_not_found\", \"Unnamed: 0.3\", \"Unnamed: 0.2\", \"Unnamed: 0.1\", \"Unnamed: 0\"])\n",
    "df.info()"
   ]
  },
  {
   "cell_type": "code",
   "execution_count": 10,
   "metadata": {},
   "outputs": [],
   "source": [
    "df_cov = pd.read_csv(\"data/lists of songs/full_dataset.csv\")"
   ]
  },
  {
   "cell_type": "code",
   "execution_count": 11,
   "metadata": {},
   "outputs": [],
   "source": [
    "df_cov = df_cov.loc[:, ['danceability', 'energy', 'key', 'loudness', 'mode',\n",
    "       'speechiness', 'acousticness', 'instrumentalness', 'liveness',\n",
    "       'valence', 'tempo', 'year', 'country', 'artist', 'songs']]\n",
    "df_cov[\"year\"]=df_cov[\"year\"].astype(\"str\")\n",
    "df_cov[\"minor_mode\"]=np.where(df_cov[\"mode\"]==1, 0, 1)"
   ]
  },
  {
   "cell_type": "code",
   "execution_count": 13,
   "metadata": {},
   "outputs": [],
   "source": [
    "df_merged = pd.merge(df,df_cov,how='left',left_on=[\"country\", \"year\", \"artist\", \"songs\"], right_on=[\"country\", \"year\", \"artist\", \"songs\"])\n",
    "df_merged = df_merged.replace(np.nan, 0)\n",
    "df_merged.replace([np.inf, -np.inf], 0, inplace=True)"
   ]
  },
  {
   "cell_type": "code",
   "execution_count": 14,
   "metadata": {},
   "outputs": [],
   "source": [
    "# Computing ratio and gloom index\n",
    "\n",
    "df_merged[\"ratio\"]=df_merged[\"neg\"]/df_merged[\"pos\"]\n",
    "df_merged[\"gloom_index\"]=(((1-df_merged[\"valence\"])+(1-df_merged['danceability']))/2+df_merged[\"neg\"]*df_merged[\"speechiness\"]*2)"
   ]
  },
  {
   "attachments": {},
   "cell_type": "markdown",
   "metadata": {},
   "source": [
    "## Implementing a Diff-in-Diff model\n",
    "\n",
    "Our proposed model is the following:\n",
    "$Y= \\beta_0 + \\beta_1covid + \\beta_2lockdown + \\beta_3(covid*lockdown) + \\epsilon$\n",
    "\n",
    "Where:\n",
    "\n",
    "+ $Y = \\Delta_{sentiment}$, considering as main measure a ratio negative/positive sentiment in song lyrics\n",
    "+ $\\beta_1covid$ are time fixed effects (pre-covid/post covid)\n",
    "+ $\\beta_2lockdown$ are group (country) fixed effects\n",
    "+ $\\beta_3(covid*lockdown)$ are the effects of the treatment variable\n",
    "\n",
    "Treatment: strict lockdowns at the country level."
   ]
  },
  {
   "cell_type": "code",
   "execution_count": 53,
   "metadata": {},
   "outputs": [],
   "source": [
    "def x_y (treated, y_selected, df):\n",
    "    dataset = df[(df[\"country\"]==treated) | (df[\"country\"]==\"New Zealand\")]\n",
    "    dataset = dataset[(dataset[\"year\"]==\"2019\") | (dataset[\"year\"]==\"2020\") | (dataset[\"year\"]==\"2021\")]\n",
    "\n",
    "    # Time variable\n",
    "    dataset[\"time\"]=np.where(dataset[\"year\"]==\"2019\", 0, 1)\n",
    "    # group variable (treatment)\n",
    "    dataset['group'] = np.where(dataset['country']==\"New Zealand\", 0,1)\n",
    "    #creating interaction variable\n",
    "    dataset['did'] = dataset['time'] * dataset['group']\n",
    "    \n",
    "    #Splitting variables into dependent (x) and independent (y) variables\n",
    "\n",
    "    x = dataset.loc[:, [\"time\",\"group\",\"did\"]]\n",
    "    y = dataset[y_selected]\n",
    "    y = y.replace(np.nan, 0)\n",
    "    y.replace([np.inf, -np.inf], 0, inplace=True)\n",
    "\n",
    "\n",
    "    return x, y"
   ]
  },
  {
   "cell_type": "code",
   "execution_count": 54,
   "metadata": {},
   "outputs": [],
   "source": [
    "# Instantiating models\n",
    "\n",
    "x, y= x_y(treated=\"Australia\", y_selected=\"ratio\", df=df_merged)\n",
    "X2 = sm.add_constant(x)\n",
    "model1 = sm.OLS(y,X2).fit()\n",
    "\n",
    "x, y= x_y(treated=\"USA\", y_selected=\"ratio\", df=df_merged)\n",
    "X2 = sm.add_constant(x)\n",
    "model2 = sm.OLS(y,X2).fit()\n",
    "\n",
    "x, y= x_y(treated=\"Australia\", y_selected=\"gloom_index\", df=df_merged)\n",
    "X2 = sm.add_constant(x)\n",
    "model3 = sm.OLS(y,X2).fit()\n",
    "\n",
    "x, y= x_y(treated=\"USA\", y_selected=\"gloom_index\", df=df_merged)\n",
    "X2 = sm.add_constant(x)\n",
    "model4 = sm.OLS(y,X2).fit()"
   ]
  },
  {
   "cell_type": "code",
   "execution_count": 55,
   "metadata": {},
   "outputs": [
    {
     "name": "stdout",
     "output_type": "stream",
     "text": [
      "                            OLS Regression Results                            \n",
      "==============================================================================\n",
      "Dep. Variable:            gloom_index   R-squared:                       0.029\n",
      "Model:                            OLS   Adj. R-squared:                  0.023\n",
      "Method:                 Least Squares   F-statistic:                     4.653\n",
      "Date:                Fri, 03 Mar 2023   Prob (F-statistic):            0.00324\n",
      "Time:                        11:41:29   Log-Likelihood:                 158.98\n",
      "No. Observations:                 464   AIC:                            -310.0\n",
      "Df Residuals:                     460   BIC:                            -293.4\n",
      "Df Model:                           3                                         \n",
      "Covariance Type:            nonrobust                                         \n",
      "==============================================================================\n",
      "                 coef    std err          t      P>|t|      [0.025      0.975]\n",
      "------------------------------------------------------------------------------\n",
      "const          0.4768      0.020     24.249      0.000       0.438       0.515\n",
      "time          -0.0490      0.024     -2.059      0.040      -0.096      -0.002\n",
      "group          0.0006      0.028      0.022      0.983      -0.055       0.056\n",
      "did            0.0700      0.034      2.047      0.041       0.003       0.137\n",
      "==============================================================================\n",
      "Omnibus:                       39.136   Durbin-Watson:                   2.041\n",
      "Prob(Omnibus):                  0.000   Jarque-Bera (JB):               52.667\n",
      "Skew:                           0.643   Prob(JB):                     3.66e-12\n",
      "Kurtosis:                       4.035   Cond. No.                         8.41\n",
      "==============================================================================\n",
      "\n",
      "Notes:\n",
      "[1] Standard Errors assume that the covariance matrix of the errors is correctly specified.\n"
     ]
    }
   ],
   "source": [
    "print(model4.summary())"
   ]
  },
  {
   "cell_type": "code",
   "execution_count": null,
   "metadata": {},
   "outputs": [],
   "source": [
    "# =============================================================================\n",
    "# Print result\n",
    "# =============================================================================\n",
    "pystout(models=[model1,model2,model3,model4],\n",
    "        file='test_table.tex',\n",
    "        addnotes=['* Significant at the 0.05 level'],\n",
    "        digits=2,\n",
    "        endog_names=['AUS','USA','AUS','USA'],\n",
    "        varlabels={'const':'Constant','time':'Time (Covid)','group':'Country', 'did':'Treatment(DiD)'},\n",
    "        #addrows={'Test':['A','Test','Row','Here','Too']},\n",
    "        mgroups={'Sentiment':[1,2],'Gloom Index':[3,4]},\n",
    "        modstat={'nobs':'Obs','rsquared_adj':'Adj. R\\sym{2}','fvalue':'F-stat'}\n",
    "        )"
   ]
  },
  {
   "attachments": {},
   "cell_type": "markdown",
   "metadata": {},
   "source": [
    "Robustness checks: \n",
    "1) taking 2022 as treatment year"
   ]
  },
  {
   "cell_type": "code",
   "execution_count": 17,
   "metadata": {},
   "outputs": [],
   "source": [
    "def x_y_22 (treated, y_selected, df):\n",
    "    dataset = df[(df[\"country\"]==treated) | (df[\"country\"]==\"New Zealand\")]\n",
    "    dataset = dataset[(dataset[\"year\"]==\"2019\") | (dataset[\"year\"]==\"2022\")]\n",
    "\n",
    "    # Time variable\n",
    "    dataset[\"time\"]=np.where(dataset[\"year\"]==\"2019\", 0, 1)\n",
    "    # group variable (treatment)\n",
    "    dataset['group'] = np.where(dataset['country']==\"New Zealand\", 0,1)\n",
    "    #creating interaction variable\n",
    "    dataset['did'] = dataset['time'] * dataset['group']\n",
    "    \n",
    "    #Splitting variables into dependent (x) and independent (y) variables\n",
    "\n",
    "    x = dataset.loc[:, [\"time\",\"group\",\"did\"]]\n",
    "    y = dataset[y_selected]\n",
    "    y = y.replace(np.nan, 0)\n",
    "    y.replace([np.inf, -np.inf], 0, inplace=True)\n",
    "\n",
    "\n",
    "    return x, y"
   ]
  },
  {
   "cell_type": "code",
   "execution_count": 19,
   "metadata": {},
   "outputs": [],
   "source": [
    "# Instantiating models\n",
    "\n",
    "x, y= x_y_22(treated=\"Australia\", y_selected=\"ratio\", df=df_merged)\n",
    "X2 = sm.add_constant(x)\n",
    "model1 = sm.OLS(y,X2).fit()\n",
    "\n",
    "x, y= x_y_22(treated=\"USA\", y_selected=\"ratio\", df=df_merged)\n",
    "X2 = sm.add_constant(x)\n",
    "model2 = sm.OLS(y,X2).fit()\n",
    "\n",
    "x, y= x_y_22(treated=\"Australia\", y_selected=\"gloom_index\", df=df_merged)\n",
    "X2 = sm.add_constant(x)\n",
    "model3 = sm.OLS(y,X2).fit()\n",
    "\n",
    "x, y= x_y_22(treated=\"USA\", y_selected=\"gloom_index\", df=df_merged)\n",
    "X2 = sm.add_constant(x)\n",
    "model4 = sm.OLS(y,X2).fit()"
   ]
  },
  {
   "cell_type": "code",
   "execution_count": 24,
   "metadata": {},
   "outputs": [
    {
     "name": "stderr",
     "output_type": "stream",
     "text": [
      "c:\\Users\\danid\\anaconda3\\lib\\site-packages\\pystout\\pystout.py:377: FutureWarning: The frame.append method is deprecated and will be removed from pandas in a future version. Use pandas.concat instead.\n",
      "  options = options.append(pd.DataFrame([r],index=[value]))\n",
      "c:\\Users\\danid\\anaconda3\\lib\\site-packages\\pystout\\pystout.py:377: FutureWarning: The frame.append method is deprecated and will be removed from pandas in a future version. Use pandas.concat instead.\n",
      "  options = options.append(pd.DataFrame([r],index=[value]))\n",
      "c:\\Users\\danid\\anaconda3\\lib\\site-packages\\pystout\\pystout.py:377: FutureWarning: The frame.append method is deprecated and will be removed from pandas in a future version. Use pandas.concat instead.\n",
      "  options = options.append(pd.DataFrame([r],index=[value]))\n"
     ]
    }
   ],
   "source": [
    "# =============================================================================\n",
    "# Print result\n",
    "# =============================================================================\n",
    "pystout(models=[model1,model2,model3,model4],\n",
    "        file='test_table_2022.tex',\n",
    "        addnotes=['* Significant at the 0.05 level'],\n",
    "        digits=2,\n",
    "        endog_names=['AUS','USA','AUS','USA'],\n",
    "        varlabels={'const':'Constant','time':'Time (Covid)','group':'Country', 'did':'Treatment(DiD)'},\n",
    "        #addrows={'Test':['A','Test','Row','Here','Too']},\n",
    "        mgroups={'Sentiment':[1,2],'Gloom Index':[3,4]},\n",
    "        modstat={'nobs':'Obs','rsquared_adj':'Adj. R\\sym{2}','fvalue':'F-stat'}\n",
    "        )"
   ]
  },
  {
   "attachments": {},
   "cell_type": "markdown",
   "metadata": {},
   "source": [
    "2) Taking Canada instead of US as high stringency country. Their mean score is similar, so the model should translate"
   ]
  },
  {
   "cell_type": "code",
   "execution_count": 65,
   "metadata": {},
   "outputs": [],
   "source": [
    "df_can = pd.read_csv(\"data/ds_sentiment_canada.csv\")"
   ]
  },
  {
   "cell_type": "code",
   "execution_count": 66,
   "metadata": {},
   "outputs": [],
   "source": [
    "df_cov = pd.read_csv(\"data/lists of songs/dataframe_song_features_canada.csv\")"
   ]
  },
  {
   "cell_type": "code",
   "execution_count": 67,
   "metadata": {},
   "outputs": [
    {
     "name": "stdout",
     "output_type": "stream",
     "text": [
      "<class 'pandas.core.frame.DataFrame'>\n",
      "RangeIndex: 198 entries, 0 to 197\n",
      "Data columns (total 16 columns):\n",
      " #   Column            Non-Null Count  Dtype  \n",
      "---  ------            --------------  -----  \n",
      " 0   Unnamed: 0.2      198 non-null    int64  \n",
      " 1   Unnamed: 0.1      198 non-null    int64  \n",
      " 2   Unnamed: 0        198 non-null    int64  \n",
      " 3   songs             198 non-null    object \n",
      " 4   artist            198 non-null    object \n",
      " 5   title             198 non-null    object \n",
      " 6   lyrics            198 non-null    object \n",
      " 7   enumerated_list   198 non-null    object \n",
      " 8   lyrics_not_found  198 non-null    bool   \n",
      " 9   sentiment         198 non-null    object \n",
      " 10  neg               198 non-null    float64\n",
      " 11  neu               198 non-null    float64\n",
      " 12  pos               198 non-null    float64\n",
      " 13  compound          198 non-null    float64\n",
      " 14  year              198 non-null    object \n",
      " 15  country           198 non-null    object \n",
      "dtypes: bool(1), float64(4), int64(3), object(8)\n",
      "memory usage: 23.5+ KB\n"
     ]
    }
   ],
   "source": [
    "# A small final pre-processing\n",
    "df_can['year'] = df_can['title'].str.extract('(\\d{4})', expand=True)\n",
    "df_can['country'] = df_can['title'].str.extract(r'Top Songs of (\\d\\d\\d\\d): (.*)')[1]\n",
    "df_can.info()\n",
    "\n"
   ]
  },
  {
   "cell_type": "code",
   "execution_count": 69,
   "metadata": {},
   "outputs": [],
   "source": [
    "df_cov['year'] = df_cov['title'].str.extract('(\\d{4})', expand=True)\n",
    "df_cov['country'] = df_cov['title'].str.extract(r'Top Songs of (\\d\\d\\d\\d): (.*)')[1]"
   ]
  },
  {
   "cell_type": "code",
   "execution_count": 70,
   "metadata": {},
   "outputs": [],
   "source": [
    "df_cov = df_cov.loc[:, ['danceability', 'energy', 'key', 'loudness', 'mode',\n",
    "       'speechiness', 'acousticness', 'instrumentalness', 'liveness',\n",
    "       'valence', 'tempo', 'year', 'country', 'artist', 'songs']]\n",
    "\n",
    "df_cov[\"minor_mode\"]=np.where(df_cov[\"mode\"]==1, 0, 1)"
   ]
  },
  {
   "cell_type": "code",
   "execution_count": 71,
   "metadata": {},
   "outputs": [],
   "source": [
    "df_merged_2 = pd.merge(df_can,df_cov,how='left',left_on=[\"country\", \"year\", \"artist\", \"songs\"], right_on=[\"country\", \"year\", \"artist\", \"songs\"])\n",
    "df_merged_2 = df_merged_2.replace(np.nan, 0)\n",
    "df_merged_2.replace([np.inf, -np.inf], 0, inplace=True)"
   ]
  },
  {
   "cell_type": "code",
   "execution_count": 72,
   "metadata": {},
   "outputs": [],
   "source": [
    "# Computing ratio and gloom index\n",
    "\n",
    "df_merged_2[\"ratio\"]=df_merged_2[\"neg\"]/df_merged_2[\"pos\"]\n",
    "df_merged_2[\"gloom_index\"]=(((1-df_merged_2[\"valence\"])+(1-df_merged_2['danceability']))/2+df_merged_2[\"neg\"]*df_merged_2[\"speechiness\"]*2)"
   ]
  },
  {
   "cell_type": "code",
   "execution_count": 73,
   "metadata": {},
   "outputs": [],
   "source": [
    "canada = df_merged_2[[\"country\", \"year\", \"ratio\", \"gloom_index\"]]"
   ]
  },
  {
   "cell_type": "code",
   "execution_count": 75,
   "metadata": {},
   "outputs": [],
   "source": [
    "others= df_merged[[\"country\", \"year\", \"ratio\", \"gloom_index\"]]"
   ]
  },
  {
   "cell_type": "code",
   "execution_count": 76,
   "metadata": {},
   "outputs": [],
   "source": [
    "final = pd.concat([canada, others])"
   ]
  },
  {
   "cell_type": "code",
   "execution_count": 77,
   "metadata": {},
   "outputs": [
    {
     "data": {
      "text/plain": [
       "Australia      335\n",
       "New Zealand    328\n",
       "USA            303\n",
       "Canada         198\n",
       "Name: country, dtype: int64"
      ]
     },
     "execution_count": 77,
     "metadata": {},
     "output_type": "execute_result"
    }
   ],
   "source": [
    "final[\"country\"].value_counts()"
   ]
  },
  {
   "cell_type": "code",
   "execution_count": 78,
   "metadata": {},
   "outputs": [],
   "source": [
    "# Instantiating models\n",
    "\n",
    "x, y= x_y(treated=\"Australia\", y_selected=\"ratio\", df=final)\n",
    "X2 = sm.add_constant(x)\n",
    "model1 = sm.OLS(y,X2).fit()\n",
    "\n",
    "x, y= x_y(treated=\"Canada\", y_selected=\"ratio\", df=final)\n",
    "X2 = sm.add_constant(x)\n",
    "model2 = sm.OLS(y,X2).fit()\n",
    "\n",
    "x, y= x_y(treated=\"Australia\", y_selected=\"gloom_index\", df=final)\n",
    "X2 = sm.add_constant(x)\n",
    "model3 = sm.OLS(y,X2).fit()\n",
    "\n",
    "x, y= x_y(treated=\"Canada\", y_selected=\"gloom_index\", df=final)\n",
    "X2 = sm.add_constant(x)\n",
    "model4 = sm.OLS(y,X2).fit()"
   ]
  },
  {
   "cell_type": "code",
   "execution_count": 83,
   "metadata": {},
   "outputs": [
    {
     "name": "stdout",
     "output_type": "stream",
     "text": [
      "                            OLS Regression Results                            \n",
      "==============================================================================\n",
      "Dep. Variable:            gloom_index   R-squared:                       0.021\n",
      "Model:                            OLS   Adj. R-squared:                  0.014\n",
      "Method:                 Least Squares   F-statistic:                     3.067\n",
      "Date:                Fri, 03 Mar 2023   Prob (F-statistic):             0.0278\n",
      "Time:                        11:45:40   Log-Likelihood:                 130.82\n",
      "No. Observations:                 441   AIC:                            -253.6\n",
      "Df Residuals:                     437   BIC:                            -237.3\n",
      "Df Model:                           3                                         \n",
      "Covariance Type:            nonrobust                                         \n",
      "==============================================================================\n",
      "                 coef    std err          t      P>|t|      [0.025      0.975]\n",
      "------------------------------------------------------------------------------\n",
      "const          0.4768      0.021     23.154      0.000       0.436       0.517\n",
      "time          -0.0490      0.025     -1.966      0.050      -0.098   -2.36e-05\n",
      "group          0.0092      0.031      0.294      0.769      -0.053       0.071\n",
      "did            0.0450      0.038      1.196      0.232      -0.029       0.119\n",
      "==============================================================================\n",
      "Omnibus:                       46.978   Durbin-Watson:                   1.932\n",
      "Prob(Omnibus):                  0.000   Jarque-Bera (JB):               63.462\n",
      "Skew:                           0.773   Prob(JB):                     1.66e-14\n",
      "Kurtosis:                       4.031   Cond. No.                         8.50\n",
      "==============================================================================\n",
      "\n",
      "Notes:\n",
      "[1] Standard Errors assume that the covariance matrix of the errors is correctly specified.\n"
     ]
    }
   ],
   "source": [
    "print(model4.summary())"
   ]
  },
  {
   "cell_type": "code",
   "execution_count": 84,
   "metadata": {},
   "outputs": [
    {
     "name": "stderr",
     "output_type": "stream",
     "text": [
      "c:\\Users\\danid\\anaconda3\\lib\\site-packages\\pystout\\pystout.py:377: FutureWarning: The frame.append method is deprecated and will be removed from pandas in a future version. Use pandas.concat instead.\n",
      "  options = options.append(pd.DataFrame([r],index=[value]))\n",
      "c:\\Users\\danid\\anaconda3\\lib\\site-packages\\pystout\\pystout.py:377: FutureWarning: The frame.append method is deprecated and will be removed from pandas in a future version. Use pandas.concat instead.\n",
      "  options = options.append(pd.DataFrame([r],index=[value]))\n",
      "c:\\Users\\danid\\anaconda3\\lib\\site-packages\\pystout\\pystout.py:377: FutureWarning: The frame.append method is deprecated and will be removed from pandas in a future version. Use pandas.concat instead.\n",
      "  options = options.append(pd.DataFrame([r],index=[value]))\n"
     ]
    }
   ],
   "source": [
    "# =============================================================================\n",
    "# Print result\n",
    "# =============================================================================\n",
    "pystout(models=[model1,model2,model3,model4],\n",
    "        file='test_table_canada.tex',\n",
    "        addnotes=['* Significant at the 0.05 level'],\n",
    "        digits=2,\n",
    "        endog_names=['Mid','High','Mid','High'],\n",
    "        varlabels={'const':'Constant','time':'Time (Covid)','group':'Country', 'did':'Treatment(DiD)'},\n",
    "        #addrows={'Test':['A','Test','Row','Here','Too']},\n",
    "        mgroups={'Sentiment':[1,2],'Gloom Index':[3,4]},\n",
    "        modstat={'nobs':'Obs','rsquared_adj':'Adj. R\\sym{2}','fvalue':'F-stat'}\n",
    "        )"
   ]
  }
 ],
 "metadata": {
  "kernelspec": {
   "display_name": "base",
   "language": "python",
   "name": "python3"
  },
  "language_info": {
   "codemirror_mode": {
    "name": "ipython",
    "version": 3
   },
   "file_extension": ".py",
   "mimetype": "text/x-python",
   "name": "python",
   "nbconvert_exporter": "python",
   "pygments_lexer": "ipython3",
   "version": "3.9.13"
  },
  "orig_nbformat": 4
 },
 "nbformat": 4,
 "nbformat_minor": 2
}
